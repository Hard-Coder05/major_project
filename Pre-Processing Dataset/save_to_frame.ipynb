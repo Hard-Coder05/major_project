{
 "cells": [
  {
   "cell_type": "code",
   "execution_count": 1,
   "id": "c7024817",
   "metadata": {},
   "outputs": [],
   "source": [
    "import os\n",
    "import glob\n",
    "import cv2\n",
    "import random\n",
    "from PIL import Image\n",
    "from tqdm import tqdm"
   ]
  },
  {
   "cell_type": "code",
   "execution_count": 2,
   "id": "3ab5b865",
   "metadata": {},
   "outputs": [],
   "source": [
    "def save_to_frame(input_dir, save_dir):\n",
    "    \"\"\"\n",
    "    input:\n",
    "        input_dir: directory to the video files\n",
    "        save_dir: directory to save the frames converted from the video\n",
    "    output:\n",
    "        None\n",
    "    \"\"\"\n",
    "    os.makedirs(save_dir, exist_ok=True)\n",
    "    for path in tqdm(glob.glob(input_dir + '/*')):\n",
    "        fname = os.path.basename(path).split('.')[0]\n",
    "        os.makedirs(os.path.join(save_dir, fname), exist_ok=True)\n",
    "        vidcap = cv2.VideoCapture(path)\n",
    "        success, image = vidcap.read()\n",
    "        count = 0\n",
    "        while success:\n",
    "            if count % 1 == 0:\n",
    "                #print(\"count = {}\".format(count))\n",
    "                cv2.imwrite(\"{}/{}/{}-{}.jpg\".format(save_dir, fname, fname, str(count).zfill(4)), image)     # save frame as JPEG file      \n",
    "            success, image = vidcap.read()\n",
    "            count += 1"
   ]
  },
  {
   "cell_type": "code",
   "execution_count": 3,
   "id": "573ac210",
   "metadata": {},
   "outputs": [
    {
     "name": "stderr",
     "output_type": "stream",
     "text": [
      "100%|████████████████████████████| 246/246 [3:07:33<00:00, 45.74s/it]\n"
     ]
    }
   ],
   "source": [
    "save_to_frame(\"../SCVD/Videos/Non-Violence/\",\"../SCVD/Frames/Non-Violence/\")"
   ]
  },
  {
   "cell_type": "code",
   "execution_count": 4,
   "id": "f0da9d59",
   "metadata": {},
   "outputs": [
    {
     "name": "stderr",
     "output_type": "stream",
     "text": [
      "100%|██████████████████████████████| 112/112 [43:39<00:00, 23.39s/it]\n"
     ]
    }
   ],
   "source": [
    "save_to_frame(\"../SCVD/Videos/Violence/\",\"../SCVD/Frames/Violence/\")"
   ]
  },
  {
   "cell_type": "code",
   "execution_count": 5,
   "id": "4c135568",
   "metadata": {},
   "outputs": [
    {
     "name": "stderr",
     "output_type": "stream",
     "text": [
      "100%|██████████████████████████████| 124/124 [34:28<00:00, 16.68s/it]\n"
     ]
    }
   ],
   "source": [
    "save_to_frame(\"../SCVD/Videos/Weapon Violence/\",\"../SCVD/Frames/Weapon Violence/\")"
   ]
  },
  {
   "cell_type": "code",
   "execution_count": null,
   "id": "4e8a3651",
   "metadata": {},
   "outputs": [],
   "source": []
  }
 ],
 "metadata": {
  "kernelspec": {
   "display_name": "Python 3 (ipykernel)",
   "language": "python",
   "name": "python3"
  },
  "language_info": {
   "codemirror_mode": {
    "name": "ipython",
    "version": 3
   },
   "file_extension": ".py",
   "mimetype": "text/x-python",
   "name": "python",
   "nbconvert_exporter": "python",
   "pygments_lexer": "ipython3",
   "version": "3.10.4"
  }
 },
 "nbformat": 4,
 "nbformat_minor": 5
}
