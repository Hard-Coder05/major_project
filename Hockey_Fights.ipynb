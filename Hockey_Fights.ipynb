{
 "cells": [
  {
   "cell_type": "code",
   "execution_count": 30,
   "id": "05ea7604",
   "metadata": {},
   "outputs": [],
   "source": [
    "import os\n",
    "import glob\n",
    "import cv2\n",
    "import random\n",
    "from PIL import Image\n",
    "from tqdm import tqdm\n",
    "\n",
    "def save_to_frame(input_dir, save_dir, category):\n",
    "    \"\"\"\n",
    "    input:\n",
    "        input_dir: directory to the video files\n",
    "        save_dir: directory to save the frames converted from the video\n",
    "    output:\n",
    "        None\n",
    "    \"\"\"\n",
    "    os.makedirs(save_dir, exist_ok=True)\n",
    "    for path in tqdm(glob.glob(input_dir + '/*')):\n",
    "        fname = os.path.basename(path).split('.')[0]\n",
    "#         os.makedirs(os.path.join(save_dir, fname), exist_ok=True)\n",
    "        vidcap = cv2.VideoCapture(path)\n",
    "        success, image = vidcap.read()\n",
    "        count = 0\n",
    "        while success:\n",
    "            if count % 1 == 0:\n",
    "                #print(\"count = {}\".format(count))\n",
    "                cv2.imwrite(\"{}/{}-{}.jpg\".format(save_dir, fname, str(count).zfill(4)), image)     # save frame as JPEG file            \n",
    "            success, image = vidcap.read()\n",
    "            count += 1\n"
   ]
  },
  {
   "cell_type": "code",
   "execution_count": 31,
   "id": "a15b6e35",
   "metadata": {},
   "outputs": [
    {
     "name": "stderr",
     "output_type": "stream",
     "text": [
      "100%|████████████████████████████████████████████████████████████████████████████████| 500/500 [01:22<00:00,  6.04it/s]\n"
     ]
    }
   ],
   "source": [
    "save_to_frame(\"./HockeyFights/violence\", \"./HockeyFightFrames/violence\", \"violence\")"
   ]
  },
  {
   "cell_type": "code",
   "execution_count": 32,
   "id": "daf6e284",
   "metadata": {},
   "outputs": [
    {
     "name": "stderr",
     "output_type": "stream",
     "text": [
      "100%|████████████████████████████████████████████████████████████████████████████████| 500/500 [01:22<00:00,  6.08it/s]\n"
     ]
    }
   ],
   "source": [
    "save_to_frame(\"./HockeyFights/nonViolence\", \"./HockeyFightFrames/nonViolence\", \"nonViolence\")"
   ]
  },
  {
   "cell_type": "code",
   "execution_count": 2,
   "id": "2836cc15",
   "metadata": {},
   "outputs": [],
   "source": [
    "#data preprocessing for feeding into lstm\n",
    "\n",
    "import cv2\n",
    "import os\n",
    "\n",
    "\n",
    "dataset=[]\n",
    "\n",
    "\n",
    "def load_images_from_folder(folder,x):\n",
    "    \n",
    "    image=[]\n",
    "    im=[]\n",
    "    c=1\n",
    "    \n",
    "    \n",
    "    for filename in os.listdir(folder):\n",
    "        img = cv2.imread(os.path.join(folder,filename))\n",
    "        n_img=cv2.resize(img,(100,100))\n",
    "        if img is not None :\n",
    "            im.append(n_img)\n",
    "        if c%10==0:\n",
    "            image.append(im)\n",
    "            image.append(x)\n",
    "            im=[]\n",
    "            dataset.append(image)\n",
    "            image=[]\n",
    "        c=c+1\n",
    "        \n",
    "load_images_from_folder(\"./trial_frames/training/nonViolence\",0)\n",
    "load_images_from_folder(\"./trial_frames/training/violence\",1)"
   ]
  },
  {
   "cell_type": "code",
   "execution_count": 3,
   "id": "ded92e77",
   "metadata": {},
   "outputs": [
    {
     "name": "stdout",
     "output_type": "stream",
     "text": [
      "368\n"
     ]
    }
   ],
   "source": [
    "print(len(dataset))\n",
    "# print(dataset)\n",
    "\n",
    "import random\n",
    "train_data = []\n",
    "test_data = []"
   ]
  },
  {
   "cell_type": "code",
   "execution_count": 4,
   "id": "74e6bf6e",
   "metadata": {},
   "outputs": [
    {
     "name": "stdout",
     "output_type": "stream",
     "text": [
      "1\n",
      "0\n",
      "0\n",
      "1\n",
      "1\n",
      "0\n",
      "1\n",
      "0\n",
      "0\n",
      "1\n"
     ]
    }
   ],
   "source": [
    "import random\n",
    "random.shuffle(dataset)\n",
    "for samples in dataset[:10]:\n",
    "    print(samples[1])\n",
    "x=[]\n",
    "y=[]\n",
    "for img,lab in dataset:\n",
    "    x.append(img)\n",
    "    y.append(lab)"
   ]
  },
  {
   "cell_type": "code",
   "execution_count": 5,
   "id": "27489c72",
   "metadata": {},
   "outputs": [
    {
     "name": "stdout",
     "output_type": "stream",
     "text": [
      "(368, 10, 100, 100, 3)\n"
     ]
    }
   ],
   "source": [
    "import numpy as np\n",
    "x=np.array(x).reshape(-1,10,100,100,3)\n",
    "print(x.shape)"
   ]
  },
  {
   "cell_type": "code",
   "execution_count": 6,
   "id": "dc4a75d3",
   "metadata": {},
   "outputs": [],
   "source": [
    "#saving everything as pickle\n",
    "import pickle\n",
    "pickle_out=open(\"xhockey.pickle\",\"wb\")\n",
    "pickle.dump(x,pickle_out)\n",
    "pickle_out.close()\n",
    "\n",
    "\n",
    "pickle_out=open(\"yhockey.pickle\",\"wb\")\n",
    "pickle.dump(y,pickle_out)\n",
    "pickle_out.close()"
   ]
  },
  {
   "cell_type": "code",
   "execution_count": 7,
   "id": "db7215ee",
   "metadata": {},
   "outputs": [],
   "source": [
    "#loading from pickle\n",
    "import pickle\n",
    "pickle_in=open(\"xhockey.pickle\",\"rb\")\n",
    "x=pickle.load(pickle_in)\n",
    "pickle_in.close()\n",
    "\n",
    "pickle_in=open(\"yhockey.pickle\",\"rb\")\n",
    "y=pickle.load(pickle_in)\n",
    "pickle_in.close()"
   ]
  },
  {
   "cell_type": "code",
   "execution_count": 8,
   "id": "83abd39e",
   "metadata": {},
   "outputs": [],
   "source": [
    "#data preprocessing for feeding into lstm\n",
    "\n",
    "import cv2\n",
    "import os\n",
    "\n",
    "\n",
    "validset=[]\n",
    "\n",
    "\n",
    "def load_images_from_folder(folder,x):\n",
    "    \n",
    "    image=[]\n",
    "    im=[]\n",
    "    c=1\n",
    "    \n",
    "    \n",
    "    for filename in os.listdir(folder):\n",
    "        img = cv2.imread(os.path.join(folder,filename))\n",
    "        n_img=cv2.resize(img,(100,100))\n",
    "        if img is not None :\n",
    "            im.append(n_img)\n",
    "        if c%10==0:\n",
    "            image.append(im)\n",
    "            image.append(x)\n",
    "            im=[]\n",
    "            validset.append(image)\n",
    "            image=[]\n",
    "        c=c+1\n",
    "        \n",
    "load_images_from_folder(\"./trial_frames/testing/nonViolence\",0)\n",
    "load_images_from_folder(\"./trial_frames/testing/violence\",1)"
   ]
  },
  {
   "cell_type": "code",
   "execution_count": 9,
   "id": "439b35c0",
   "metadata": {},
   "outputs": [
    {
     "name": "stdout",
     "output_type": "stream",
     "text": [
      "40\n"
     ]
    }
   ],
   "source": [
    "print(len(validset))"
   ]
  },
  {
   "cell_type": "code",
   "execution_count": 10,
   "id": "ed02ee90",
   "metadata": {},
   "outputs": [
    {
     "name": "stdout",
     "output_type": "stream",
     "text": [
      "0\n",
      "0\n",
      "0\n",
      "0\n",
      "1\n",
      "0\n",
      "1\n",
      "0\n",
      "0\n",
      "1\n"
     ]
    }
   ],
   "source": [
    "import random\n",
    "random.shuffle(validset)\n",
    "for samples in validset[:10]:\n",
    "    print(samples[1])\n",
    "x_valid=[]\n",
    "y_valid=[]\n",
    "for img,lab in validset:\n",
    "    x_valid.append(img)\n",
    "    y_valid.append(lab)"
   ]
  },
  {
   "cell_type": "code",
   "execution_count": 12,
   "id": "a5c389a3",
   "metadata": {},
   "outputs": [
    {
     "name": "stdout",
     "output_type": "stream",
     "text": [
      "(40, 10, 100, 100, 3)\n"
     ]
    }
   ],
   "source": [
    "import numpy as np\n",
    "x_valid=np.array(x_valid).reshape(-1,10,100,100,3)\n",
    "print(x_valid.shape)"
   ]
  },
  {
   "cell_type": "code",
   "execution_count": 13,
   "id": "f5c702e2",
   "metadata": {},
   "outputs": [],
   "source": [
    "x_valid=x_valid.astype('float32')/255\n",
    "import tensorflow as tf\n",
    "from tensorflow.keras.callbacks import TensorBoard"
   ]
  },
  {
   "cell_type": "code",
   "execution_count": 26,
   "id": "f07d5158",
   "metadata": {},
   "outputs": [
    {
     "name": "stdout",
     "output_type": "stream",
     "text": [
      "Model: \"sequential_7\"\n",
      "_________________________________________________________________\n",
      " Layer (type)                Output Shape              Param #   \n",
      "=================================================================\n",
      " time_distributed_3 (TimeDis  (None, 10, 11520)        2257984   \n",
      " tributed)                                                       \n",
      "                                                                 \n",
      " bidirectional_3 (Bidirectio  (None, 64)               2957568   \n",
      " nal)                                                            \n",
      "                                                                 \n",
      " dense_9 (Dense)             (None, 64)                4160      \n",
      "                                                                 \n",
      " dense_10 (Dense)            (None, 32)                2080      \n",
      "                                                                 \n",
      " dense_11 (Dense)            (None, 2)                 66        \n",
      "                                                                 \n",
      "=================================================================\n",
      "Total params: 5,221,858\n",
      "Trainable params: 5,187,746\n",
      "Non-trainable params: 34,112\n",
      "_________________________________________________________________\n",
      "None\n"
     ]
    }
   ],
   "source": [
    "from keras import backend as K\n",
    "import tensorflow as tf\n",
    "from tensorflow.keras.models import Sequential\n",
    "from tensorflow.keras.layers import Dense, TimeDistributed,Dropout, Activation, Flatten,Conv2D, MaxPooling2D,LSTM,Bidirectional\n",
    "from tensorflow.keras.optimizers import Adam, SGD\n",
    "from tensorflow.keras.callbacks import TensorBoard\n",
    "from tensorflow.keras.applications import MobileNetV2\n",
    "\n",
    "# K.image_data_format('tf')\n",
    "import numpy as np\n",
    "x=x.astype('float32')/255\n",
    "NAME=\"HOCKEYFINAL\"\n",
    "tensorboard=TensorBoard(log_dir='logs/{}'.format(NAME))\n",
    "\n",
    "mobilenet = MobileNetV2(\n",
    "    input_shape=None,\n",
    "#     alpha=1.0,\n",
    "    include_top= False,\n",
    "    weights=None,\n",
    "    input_tensor=None,\n",
    "    pooling=None,\n",
    "#     classes=3,\n",
    "#     classifier_activation=\"softmax\"\n",
    ")\n",
    "\n",
    "## training the CNN\n",
    "cnn = Sequential()\n",
    "\n",
    "cnn.add(mobilenet)\n",
    "#input\n",
    "# cnn.add(Conv2D(64, (3, 3), activation='relu', padding='same'))\n",
    "\n",
    "#1st layer\n",
    "\n",
    "# cnn.add(Conv2D(64, (3, 3), activation='relu'))\n",
    "# cnn.add(MaxPooling2D((2, 2)))\n",
    "# cnn.add(Conv2D(64, (3, 3), activation='relu'))\n",
    "# cnn.add(MaxPooling2D((2, 2)))\n",
    "# cnn.add(Conv2D(64, (3, 3), activation='relu'))\n",
    "# cnn.add(MaxPooling2D((2, 2)))\n",
    "\n",
    "#converting to 1-d tensor\n",
    "cnn.add(Flatten())\n",
    "\n",
    "model=Sequential()\n",
    "model.add(TimeDistributed(cnn,input_shape=x.shape[1:]))\n",
    "model.add(Bidirectional(LSTM(32)))\n",
    "#model.add(LSTM(32))\n",
    "model.add(Dense(64,activation='relu'))\n",
    "model.add(Dense(32,activation='relu'))\n",
    "#model.add(Flatten())\n",
    "model.add(Dense(2,activation='sigmoid'))\n",
    "model.compile(loss='sparse_categorical_crossentropy',optimizer='SGD',metrics=['accuracy'])\n",
    "print(model.summary())"
   ]
  },
  {
   "cell_type": "code",
   "execution_count": 27,
   "id": "4fc2e7a5",
   "metadata": {},
   "outputs": [
    {
     "name": "stdout",
     "output_type": "stream",
     "text": [
      "Epoch 1/25\n",
      "74/74 [==============================] - 153s 2s/step - loss: 0.7105 - accuracy: 0.4891 - val_loss: 0.6932 - val_accuracy: 0.5000\n",
      "Epoch 2/25\n",
      "74/74 [==============================] - 142s 2s/step - loss: 0.6988 - accuracy: 0.4755 - val_loss: 0.6931 - val_accuracy: 0.5000\n",
      "Epoch 3/25\n",
      "74/74 [==============================] - 141s 2s/step - loss: 0.6967 - accuracy: 0.4891 - val_loss: 0.6932 - val_accuracy: 0.5000\n",
      "Epoch 4/25\n",
      "74/74 [==============================] - 144s 2s/step - loss: 0.6975 - accuracy: 0.4728 - val_loss: 0.6932 - val_accuracy: 0.5000\n",
      "Epoch 5/25\n",
      "74/74 [==============================] - 145s 2s/step - loss: 0.6961 - accuracy: 0.5000 - val_loss: 0.6932 - val_accuracy: 0.5000\n",
      "Epoch 6/25\n",
      "74/74 [==============================] - 142s 2s/step - loss: 0.6962 - accuracy: 0.4783 - val_loss: 0.6932 - val_accuracy: 0.5000\n",
      "Epoch 7/25\n",
      "74/74 [==============================] - 143s 2s/step - loss: 0.6956 - accuracy: 0.4511 - val_loss: 0.6932 - val_accuracy: 0.5000\n",
      "Epoch 8/25\n",
      "74/74 [==============================] - 143s 2s/step - loss: 0.6947 - accuracy: 0.5027 - val_loss: 0.6931 - val_accuracy: 0.5000\n",
      "Epoch 9/25\n",
      "74/74 [==============================] - 146s 2s/step - loss: 0.6958 - accuracy: 0.4538 - val_loss: 0.6932 - val_accuracy: 0.5000\n",
      "Epoch 10/25\n",
      "74/74 [==============================] - 143s 2s/step - loss: 0.6937 - accuracy: 0.4837 - val_loss: 0.6933 - val_accuracy: 0.5000\n",
      "Epoch 11/25\n",
      "74/74 [==============================] - 150s 2s/step - loss: 0.6963 - accuracy: 0.4837 - val_loss: 0.6932 - val_accuracy: 0.5000\n",
      "Epoch 12/25\n",
      "74/74 [==============================] - 142s 2s/step - loss: 0.6955 - accuracy: 0.4864 - val_loss: 0.6932 - val_accuracy: 0.5000\n",
      "Epoch 13/25\n",
      "74/74 [==============================] - 141s 2s/step - loss: 0.6954 - accuracy: 0.4864 - val_loss: 0.6932 - val_accuracy: 0.5000\n",
      "Epoch 14/25\n",
      "74/74 [==============================] - 141s 2s/step - loss: 0.6953 - accuracy: 0.4946 - val_loss: 0.6932 - val_accuracy: 0.5000\n",
      "Epoch 15/25\n",
      "74/74 [==============================] - 141s 2s/step - loss: 0.6939 - accuracy: 0.5245 - val_loss: 0.6932 - val_accuracy: 0.5000\n",
      "Epoch 16/25\n",
      "74/74 [==============================] - 142s 2s/step - loss: 0.6952 - accuracy: 0.4946 - val_loss: 0.6932 - val_accuracy: 0.5000\n",
      "Epoch 17/25\n",
      "74/74 [==============================] - 141s 2s/step - loss: 0.6945 - accuracy: 0.4783 - val_loss: 0.6932 - val_accuracy: 0.5000\n",
      "Epoch 18/25\n",
      "74/74 [==============================] - 141s 2s/step - loss: 0.6950 - accuracy: 0.4810 - val_loss: 0.6932 - val_accuracy: 0.5000\n",
      "Epoch 19/25\n",
      "74/74 [==============================] - 141s 2s/step - loss: 0.6954 - accuracy: 0.4864 - val_loss: 0.6932 - val_accuracy: 0.5000\n",
      "Epoch 20/25\n",
      "74/74 [==============================] - 141s 2s/step - loss: 0.6948 - accuracy: 0.4565 - val_loss: 0.6931 - val_accuracy: 0.5000\n",
      "Epoch 21/25\n",
      "74/74 [==============================] - 149s 2s/step - loss: 0.6953 - accuracy: 0.4674 - val_loss: 0.6932 - val_accuracy: 0.5000\n",
      "Epoch 22/25\n",
      "74/74 [==============================] - 157s 2s/step - loss: 0.6943 - accuracy: 0.5000 - val_loss: 0.6932 - val_accuracy: 0.5000\n",
      "Epoch 23/25\n",
      "74/74 [==============================] - 159s 2s/step - loss: 0.6952 - accuracy: 0.4864 - val_loss: 0.6937 - val_accuracy: 0.5000\n",
      "Epoch 24/25\n",
      "74/74 [==============================] - 150s 2s/step - loss: 0.6946 - accuracy: 0.4946 - val_loss: 0.6942 - val_accuracy: 0.5000\n",
      "Epoch 25/25\n",
      "74/74 [==============================] - 149s 2s/step - loss: 0.6952 - accuracy: 0.4674 - val_loss: 0.6939 - val_accuracy: 0.5000\n"
     ]
    }
   ],
   "source": [
    "x = np.array(x)\n",
    "y = np.array(y)\n",
    "x_valid = np.array(x_valid)\n",
    "y_valid = np.array(y_valid)\n",
    "\n",
    "model.fit(x,y,epochs=25,validation_data=(x_valid,y_valid),batch_size=5, callbacks=[tensorboard])\n",
    "model.save(\"Hockey.h5\")"
   ]
  },
  {
   "cell_type": "code",
   "execution_count": null,
   "id": "b5e95cbf",
   "metadata": {},
   "outputs": [],
   "source": []
  }
 ],
 "metadata": {
  "kernelspec": {
   "display_name": "Python 3 (ipykernel)",
   "language": "python",
   "name": "python3"
  },
  "language_info": {
   "codemirror_mode": {
    "name": "ipython",
    "version": 3
   },
   "file_extension": ".py",
   "mimetype": "text/x-python",
   "name": "python",
   "nbconvert_exporter": "python",
   "pygments_lexer": "ipython3",
   "version": "3.10.6"
  }
 },
 "nbformat": 4,
 "nbformat_minor": 5
}
