{
 "cells": [
  {
   "cell_type": "code",
   "execution_count": 1,
   "id": "d050540c",
   "metadata": {},
   "outputs": [],
   "source": [
    "# import the necessary packages\n",
    "from keras.preprocessing.image import ImageDataGenerator\n",
    "from keras.layers.pooling import AveragePooling2D\n",
    "from tensorflow.keras.applications import MobileNetV2\n",
    "from keras.layers.core import Dropout\n",
    "from keras.layers.core import Flatten\n",
    "from keras.layers.core import Dense\n",
    "from keras.layers import Input\n",
    "from keras.models import Model\n",
    "from tensorflow.keras.utils import to_categorical\n",
    "from tensorflow.keras.optimizers import SGD\n",
    "from tensorflow.keras.utils import to_categorical \n",
    "from tensorflow.keras.utils import plot_model\n",
    "from sklearn.preprocessing import LabelBinarizer\n",
    "from sklearn.model_selection import train_test_split\n",
    "from sklearn.metrics import classification_report\n",
    "from imutils import paths\n",
    "from tqdm import tqdm\n",
    "import matplotlib.pyplot as plt\n",
    "import numpy as np\n",
    "import warnings\n",
    "import argparse\n",
    "import pickle\n",
    "import cv2\n",
    "import os\n",
    "import sys\n",
    "import glob\n",
    "import matplotlib\n",
    "matplotlib.use(\"Agg\")"
   ]
  },
  {
   "cell_type": "code",
   "execution_count": 2,
   "id": "46a0e6a9",
   "metadata": {},
   "outputs": [],
   "source": [
    "warnings.filterwarnings('ignore',category=FutureWarning)\n",
    "warnings.filterwarnings('ignore',category=DeprecationWarning)"
   ]
  },
  {
   "cell_type": "code",
   "execution_count": 4,
   "id": "022be332",
   "metadata": {},
   "outputs": [],
   "source": [
    "args = {\n",
    "    \"dataset\": \"./SCVD_mini/5x3\",\n",
    "    \"model\": \"./MoBiLSTM5x3/models/MoBiLSTM_5x3.h5\",\n",
    "    \"label-bin\": \"./MoBiLSTM5x3/label-bin/MoBiLSTM_5x3.pickle\",\n",
    "    \"epochs\": 30,\n",
    "    \"plot\": \"./MoBiLSTM5x3/plots/MoBiLSTM_5x3.png\"\n",
    "}"
   ]
  },
  {
   "cell_type": "code",
   "execution_count": 5,
   "id": "42393117",
   "metadata": {},
   "outputs": [
    {
     "name": "stdout",
     "output_type": "stream",
     "text": [
      "----------------------------------------------------------------------------------------------------\n",
      "[INFO] loading images...\n",
      "----------------------------------------------------------------------------------------------------\n",
      "['./SCVD_mini/5x3\\\\NonViolence\\\\nv1_merge_0.jpg', './SCVD_mini/5x3\\\\NonViolence\\\\nv1_merge_1.jpg', './SCVD_mini/5x3\\\\NonViolence\\\\nv1_merge_2.jpg', './SCVD_mini/5x3\\\\NonViolence\\\\nv1_merge_3.jpg', './SCVD_mini/5x3\\\\NonViolence\\\\nv1_merge_4.jpg', './SCVD_mini/5x3\\\\NonViolence\\\\nv1_merge_5.jpg', './SCVD_mini/5x3\\\\NonViolence\\\\nv1_merge_6.jpg', './SCVD_mini/5x3\\\\NonViolence\\\\nv1_merge_7.jpg', './SCVD_mini/5x3\\\\NonViolence\\\\nv1_merge_8.jpg', './SCVD_mini/5x3\\\\NonViolence\\\\nv1_merge_9.jpg', './SCVD_mini/5x3\\\\NonViolence\\\\nv2_merge_0.jpg', './SCVD_mini/5x3\\\\NonViolence\\\\nv2_merge_1.jpg', './SCVD_mini/5x3\\\\NonViolence\\\\nv2_merge_2.jpg', './SCVD_mini/5x3\\\\NonViolence\\\\nv2_merge_3.jpg', './SCVD_mini/5x3\\\\NonViolence\\\\nv2_merge_4.jpg', './SCVD_mini/5x3\\\\NonViolence\\\\nv2_merge_5.jpg', './SCVD_mini/5x3\\\\NonViolence\\\\nv2_merge_6.jpg', './SCVD_mini/5x3\\\\NonViolence\\\\nv2_merge_7.jpg', './SCVD_mini/5x3\\\\NonViolence\\\\nv2_merge_8.jpg', './SCVD_mini/5x3\\\\NonViolence\\\\nv2_merge_9.jpg', './SCVD_mini/5x3\\\\NonViolence\\\\nv3_merge_0.jpg', './SCVD_mini/5x3\\\\NonViolence\\\\nv3_merge_1.jpg', './SCVD_mini/5x3\\\\NonViolence\\\\nv3_merge_2.jpg', './SCVD_mini/5x3\\\\NonViolence\\\\nv3_merge_3.jpg', './SCVD_mini/5x3\\\\NonViolence\\\\nv3_merge_4.jpg', './SCVD_mini/5x3\\\\NonViolence\\\\nv3_merge_5.jpg', './SCVD_mini/5x3\\\\NonViolence\\\\nv3_merge_6.jpg', './SCVD_mini/5x3\\\\NonViolence\\\\nv3_merge_7.jpg', './SCVD_mini/5x3\\\\NonViolence\\\\nv3_merge_8.jpg', './SCVD_mini/5x3\\\\Violence\\\\V1_merge_0.jpg', './SCVD_mini/5x3\\\\Violence\\\\V1_merge_1.jpg', './SCVD_mini/5x3\\\\Violence\\\\V1_merge_10.jpg', './SCVD_mini/5x3\\\\Violence\\\\V1_merge_11.jpg', './SCVD_mini/5x3\\\\Violence\\\\V1_merge_2.jpg', './SCVD_mini/5x3\\\\Violence\\\\V1_merge_3.jpg', './SCVD_mini/5x3\\\\Violence\\\\V1_merge_4.jpg', './SCVD_mini/5x3\\\\Violence\\\\V1_merge_5.jpg', './SCVD_mini/5x3\\\\Violence\\\\V1_merge_6.jpg', './SCVD_mini/5x3\\\\Violence\\\\V1_merge_7.jpg', './SCVD_mini/5x3\\\\Violence\\\\V1_merge_8.jpg', './SCVD_mini/5x3\\\\Violence\\\\V1_merge_9.jpg', './SCVD_mini/5x3\\\\Violence\\\\V2_merge_0.jpg', './SCVD_mini/5x3\\\\Violence\\\\V2_merge_1.jpg', './SCVD_mini/5x3\\\\Violence\\\\V2_merge_10.jpg', './SCVD_mini/5x3\\\\Violence\\\\V2_merge_2.jpg', './SCVD_mini/5x3\\\\Violence\\\\V2_merge_3.jpg', './SCVD_mini/5x3\\\\Violence\\\\V2_merge_4.jpg', './SCVD_mini/5x3\\\\Violence\\\\V2_merge_5.jpg', './SCVD_mini/5x3\\\\Violence\\\\V2_merge_6.jpg', './SCVD_mini/5x3\\\\Violence\\\\V2_merge_7.jpg', './SCVD_mini/5x3\\\\Violence\\\\V2_merge_8.jpg', './SCVD_mini/5x3\\\\Violence\\\\V2_merge_9.jpg', './SCVD_mini/5x3\\\\Violence\\\\V3_merge_0.jpg', './SCVD_mini/5x3\\\\Violence\\\\V3_merge_1.jpg', './SCVD_mini/5x3\\\\Violence\\\\V3_merge_2.jpg', './SCVD_mini/5x3\\\\Violence\\\\V3_merge_3.jpg', './SCVD_mini/5x3\\\\Violence\\\\V3_merge_4.jpg', './SCVD_mini/5x3\\\\WeaponViolence\\\\WV1_merge_0.jpg', './SCVD_mini/5x3\\\\WeaponViolence\\\\WV1_merge_1.jpg', './SCVD_mini/5x3\\\\WeaponViolence\\\\WV1_merge_2.jpg', './SCVD_mini/5x3\\\\WeaponViolence\\\\WV1_merge_3.jpg', './SCVD_mini/5x3\\\\WeaponViolence\\\\WV1_merge_4.jpg', './SCVD_mini/5x3\\\\WeaponViolence\\\\WV1_merge_5.jpg', './SCVD_mini/5x3\\\\WeaponViolence\\\\WV1_merge_6.jpg', './SCVD_mini/5x3\\\\WeaponViolence\\\\WV1_merge_7.jpg', './SCVD_mini/5x3\\\\WeaponViolence\\\\WV1_merge_8.jpg', './SCVD_mini/5x3\\\\WeaponViolence\\\\WV1_merge_9.jpg', './SCVD_mini/5x3\\\\WeaponViolence\\\\WV2_merge_0.jpg', './SCVD_mini/5x3\\\\WeaponViolence\\\\WV2_merge_1.jpg', './SCVD_mini/5x3\\\\WeaponViolence\\\\WV2_merge_2.jpg', './SCVD_mini/5x3\\\\WeaponViolence\\\\WV2_merge_3.jpg', './SCVD_mini/5x3\\\\WeaponViolence\\\\WV2_merge_4.jpg', './SCVD_mini/5x3\\\\WeaponViolence\\\\WV2_merge_5.jpg', './SCVD_mini/5x3\\\\WeaponViolence\\\\WV2_merge_6.jpg', './SCVD_mini/5x3\\\\WeaponViolence\\\\WV2_merge_7.jpg', './SCVD_mini/5x3\\\\WeaponViolence\\\\WV2_merge_8.jpg', './SCVD_mini/5x3\\\\WeaponViolence\\\\WV2_merge_9.jpg', './SCVD_mini/5x3\\\\WeaponViolence\\\\WV3_merge_0.jpg', './SCVD_mini/5x3\\\\WeaponViolence\\\\WV3_merge_1.jpg', './SCVD_mini/5x3\\\\WeaponViolence\\\\WV3_merge_10.jpg', './SCVD_mini/5x3\\\\WeaponViolence\\\\WV3_merge_2.jpg', './SCVD_mini/5x3\\\\WeaponViolence\\\\WV3_merge_3.jpg', './SCVD_mini/5x3\\\\WeaponViolence\\\\WV3_merge_4.jpg', './SCVD_mini/5x3\\\\WeaponViolence\\\\WV3_merge_5.jpg', './SCVD_mini/5x3\\\\WeaponViolence\\\\WV3_merge_6.jpg', './SCVD_mini/5x3\\\\WeaponViolence\\\\WV3_merge_7.jpg', './SCVD_mini/5x3\\\\WeaponViolence\\\\WV3_merge_8.jpg', './SCVD_mini/5x3\\\\WeaponViolence\\\\WV3_merge_9.jpg']\n"
     ]
    }
   ],
   "source": [
    "# initialize the set of labels from the spots activity dataset we are\n",
    "# going to train our network on\n",
    "LABELS = set([\"Violence\", \"NonViolence\", \"WeaponViolence\"])\n",
    "\n",
    "# grab the list of images in our dataset directory, then initialize\n",
    "# the list of data (i.e., images) and class images\n",
    "print('-'*100)\n",
    "print(\"[INFO] loading images...\")\n",
    "print('-'*100)\n",
    "from imutils import paths\n",
    "imagePaths = list(paths.list_images(args[\"dataset\"]))\n",
    "print(imagePaths)\n",
    "data = []\n",
    "labels = []"
   ]
  },
  {
   "cell_type": "code",
   "execution_count": 6,
   "id": "bf91287a",
   "metadata": {},
   "outputs": [
    {
     "name": "stderr",
     "output_type": "stream",
     "text": [
      "100%|██████████████████████████████████████████████████████████████████████████████████| 88/88 [00:59<00:00,  1.48it/s]\n"
     ]
    }
   ],
   "source": [
    "# loop over the image paths\n",
    "for imagePath in tqdm(imagePaths[::]):\n",
    "    # imagePath : file name ex) V_123\n",
    "    # extract the class label from the filename\n",
    "    label = imagePath.split(os.path.sep)[-2] # Violence / NonViolence\n",
    "\n",
    "    # if the label of the current image is not part of of the labels\n",
    "    # are interested in, then ignore the image\n",
    "    if label not in LABELS:\n",
    "        continue\n",
    "\n",
    "    # load the image, convert it to RGB channel ordering, and resize\n",
    "    # it to be a fixed 224x224 pixels, ignoring aspect ratio\n",
    "    image = cv2.imread(imagePath)\n",
    "    image = cv2.cvtColor(image, cv2.COLOR_BGR2RGB)\n",
    "    image = cv2.resize(image, (224, 224))\n",
    "\n",
    "    # update the data and labels lists, respectively\n",
    "    data.append(image)\n",
    "    labels.append(label)"
   ]
  },
  {
   "cell_type": "code",
   "execution_count": 7,
   "id": "7ba606ee",
   "metadata": {},
   "outputs": [],
   "source": [
    "# convert the data and labels to NumPy arrays\n",
    "dt = np.array(data)\n",
    "lbls = np.array(labels)\n",
    "\n",
    "\n",
    "# perform one-hot encoding on the labels\n",
    "lb = LabelBinarizer()\n",
    "lbls_fit = lb.fit_transform(lbls)\n",
    "#lbls_cat = to_categorical(lbls_fit, num_classes=3)\n",
    "\n",
    "# partition the data into training and testing splits using 70% of\n",
    "# the data for training and the remaining 30% for testing\n",
    "(trainX, testX, trainY, testY) = train_test_split(dt, lbls_fit, test_size=0.2, stratify=lbls_fit, random_state=33)"
   ]
  },
  {
   "cell_type": "code",
   "execution_count": 8,
   "id": "8bca97b6",
   "metadata": {},
   "outputs": [],
   "source": [
    "# initialize the training data augmentation object\n",
    "trainAug = ImageDataGenerator(\n",
    "    #rotation_range=30,\n",
    "    zoom_range=0.15,\n",
    "    #width_shift_range=0.2,\n",
    "    #height_shift_range=0.2,\n",
    "    #shear_range=0.15,\n",
    "    horizontal_flip=True,\n",
    "    fill_mode=\"nearest\")\n",
    "\n",
    "\n",
    "# initialize the validation/testing data augmentation object (which\n",
    "# we'll be adding mean subtraction to)\n",
    "valAug = ImageDataGenerator()"
   ]
  },
  {
   "cell_type": "code",
   "execution_count": 9,
   "id": "a7e15462",
   "metadata": {},
   "outputs": [],
   "source": [
    "# define the ImageNet mean subtraction (in RGB order) and set the\n",
    "# the mean subtraction value for each of the data augmentation\n",
    "# objects\n",
    "mean = np.array([123.68, 116.779, 103.939], dtype=\"float32\")\n",
    "trainAug.mean = mean\n",
    "valAug.mean = mean"
   ]
  },
  {
   "cell_type": "code",
   "execution_count": 43,
   "id": "b69a753f",
   "metadata": {},
   "outputs": [],
   "source": [
    "# load the InceptionV3 network, ensuring the head FC layer sets are left\n",
    "# off\n",
    "mobilenet = MobileNetV2(\n",
    "    alpha=1.0,\n",
    "    include_top=True,\n",
    "    weights=None,\n",
    "    input_tensor=None,\n",
    "    pooling=None,\n",
    "    classes=3,\n",
    "    classifier_activation=\"softmax\")\n",
    "\n",
    "# loop over all layers in the base model and freeze them so they will\n",
    "# *not* be updated during the training process\n",
    "mobilenet.trainable = True"
   ]
  },
  {
   "cell_type": "code",
   "execution_count": 44,
   "id": "31c183e1",
   "metadata": {},
   "outputs": [],
   "source": [
    "from keras.models import Sequential\n",
    "from keras.layers import *\n",
    "\n",
    "\n",
    "def create_model():\n",
    " \n",
    "    model = Sequential()\n",
    "\n",
    "    ########################################################################################################################\n",
    "    \n",
    "    #Specifying Input to match features shape\n",
    "    model.add(Input(shape = (15, 224, 224, 3)))\n",
    "    \n",
    "    # Passing mobilenet in the TimeDistributed layer to handle the sequence\n",
    "    model.add(TimeDistributed(mobilenet))\n",
    "    \n",
    "    model.add(Dropout(0.25))\n",
    "                                    \n",
    "    model.add(TimeDistributed(Flatten()))\n",
    "\n",
    "    \n",
    "    lstm_fw = LSTM(units=32)\n",
    "    lstm_bw = LSTM(units=32, go_backwards = True)  \n",
    "\n",
    "    model.add(Bidirectional(lstm_fw, backward_layer = lstm_bw))\n",
    "    \n",
    "    model.add(Dropout(0.25))\n",
    "\n",
    "    model.add(Dense(256,activation='relu'))\n",
    "    model.add(Dropout(0.25))\n",
    "\n",
    "    model.add(Dense(128,activation='relu'))\n",
    "    model.add(Dropout(0.25))\n",
    "\n",
    "    model.add(Dense(64,activation='relu'))\n",
    "    model.add(Dropout(0.25))\n",
    "\n",
    "    model.add(Dense(32,activation='relu'))\n",
    "    model.add(Dropout(0.25))\n",
    "    \n",
    "    \n",
    "    model.add(Dense(3, activation = 'softmax'))\n",
    " \n",
    "    ########################################################################################################################\n",
    " \n",
    "    model.summary()\n",
    "    \n",
    "    return model"
   ]
  },
  {
   "cell_type": "code",
   "execution_count": 45,
   "id": "2a0686dd",
   "metadata": {},
   "outputs": [
    {
     "name": "stdout",
     "output_type": "stream",
     "text": [
      "Model: \"sequential_12\"\n",
      "_________________________________________________________________\n",
      " Layer (type)                Output Shape              Param #   \n",
      "=================================================================\n",
      " time_distributed_17 (TimeDi  (None, 15, 3)            2261827   \n",
      " stributed)                                                      \n",
      "                                                                 \n",
      " dropout_48 (Dropout)        (None, 15, 3)             0         \n",
      "                                                                 \n",
      " time_distributed_18 (TimeDi  (None, 15, 3)            0         \n",
      " stributed)                                                      \n",
      "                                                                 \n",
      " bidirectional_8 (Bidirectio  (None, 64)               9216      \n",
      " nal)                                                            \n",
      "                                                                 \n",
      " dropout_49 (Dropout)        (None, 64)                0         \n",
      "                                                                 \n",
      " dense_39 (Dense)            (None, 256)               16640     \n",
      "                                                                 \n",
      " dropout_50 (Dropout)        (None, 256)               0         \n",
      "                                                                 \n",
      " dense_40 (Dense)            (None, 128)               32896     \n",
      "                                                                 \n",
      " dropout_51 (Dropout)        (None, 128)               0         \n",
      "                                                                 \n",
      " dense_41 (Dense)            (None, 64)                8256      \n",
      "                                                                 \n",
      " dropout_52 (Dropout)        (None, 64)                0         \n",
      "                                                                 \n",
      " dense_42 (Dense)            (None, 32)                2080      \n",
      "                                                                 \n",
      " dropout_53 (Dropout)        (None, 32)                0         \n",
      "                                                                 \n",
      " dense_43 (Dense)            (None, 3)                 99        \n",
      "                                                                 \n",
      "=================================================================\n",
      "Total params: 2,331,014\n",
      "Trainable params: 2,296,902\n",
      "Non-trainable params: 34,112\n",
      "_________________________________________________________________\n",
      "You must install pydot (`pip install pydot`) and install graphviz (see instructions at https://graphviz.gitlab.io/download/) for plot_model to work.\n",
      "----------------------------------------------------------------------------------------------------\n",
      "[INFO] compiling model...\n",
      "----------------------------------------------------------------------------------------------------\n",
      "Model: \"sequential_12\"\n",
      "_________________________________________________________________\n",
      " Layer (type)                Output Shape              Param #   \n",
      "=================================================================\n",
      " time_distributed_17 (TimeDi  (None, 15, 3)            2261827   \n",
      " stributed)                                                      \n",
      "                                                                 \n",
      " dropout_48 (Dropout)        (None, 15, 3)             0         \n",
      "                                                                 \n",
      " time_distributed_18 (TimeDi  (None, 15, 3)            0         \n",
      " stributed)                                                      \n",
      "                                                                 \n",
      " bidirectional_8 (Bidirectio  (None, 64)               9216      \n",
      " nal)                                                            \n",
      "                                                                 \n",
      " dropout_49 (Dropout)        (None, 64)                0         \n",
      "                                                                 \n",
      " dense_39 (Dense)            (None, 256)               16640     \n",
      "                                                                 \n",
      " dropout_50 (Dropout)        (None, 256)               0         \n",
      "                                                                 \n",
      " dense_40 (Dense)            (None, 128)               32896     \n",
      "                                                                 \n",
      " dropout_51 (Dropout)        (None, 128)               0         \n",
      "                                                                 \n",
      " dense_41 (Dense)            (None, 64)                8256      \n",
      "                                                                 \n",
      " dropout_52 (Dropout)        (None, 64)                0         \n",
      "                                                                 \n",
      " dense_42 (Dense)            (None, 32)                2080      \n",
      "                                                                 \n",
      " dropout_53 (Dropout)        (None, 32)                0         \n",
      "                                                                 \n",
      " dense_43 (Dense)            (None, 3)                 99        \n",
      "                                                                 \n",
      "=================================================================\n",
      "Total params: 2,331,014\n",
      "Trainable params: 2,296,902\n",
      "Non-trainable params: 34,112\n",
      "_________________________________________________________________\n",
      "None\n"
     ]
    }
   ],
   "source": [
    "# Constructing the Model\n",
    "MoBiLSTM_model = create_model()\n",
    "\n",
    "# Plot the structure of the contructed LRCN model.\n",
    "plot_model(MoBiLSTM_model, to_file = 'MobBiLSTM_model_structure_plot.png', show_shapes = True, show_layer_names = True)\n",
    "\n",
    "# compile our model (this needs to be done after our setting our\n",
    "# layers to being non-trainable)\n",
    "print('-'*100)\n",
    "print(\"[INFO] compiling model...\")\n",
    "print('-'*100)\n",
    "opt = SGD(lr=1e-3, momentum=0.9, decay=1e-4 / args[\"epochs\"])\n",
    "MoBiLSTM_model.compile(loss=\"categorical_crossentropy\", optimizer=opt, metrics=[\"accuracy\"])\n",
    "print(MoBiLSTM_model.summary())"
   ]
  },
  {
   "cell_type": "code",
   "execution_count": 46,
   "id": "a39ae441",
   "metadata": {},
   "outputs": [
    {
     "name": "stdout",
     "output_type": "stream",
     "text": [
      "----------------------------------------------------------------------------------------------------\n",
      "[INFO] training head...\n",
      "----------------------------------------------------------------------------------------------------\n",
      "Epoch 1/30\n",
      "WARNING:tensorflow:Model was constructed with shape (None, 15, 224, 224, 3) for input KerasTensor(type_spec=TensorSpec(shape=(None, 15, 224, 224, 3), dtype=tf.float32, name='input_11'), name='input_11', description=\"created by layer 'input_11'\"), but it was called on an input with incompatible shape (None, None, None, None).\n"
     ]
    },
    {
     "ename": "ValueError",
     "evalue": "in user code:\n\n    File \"C:\\Python310\\lib\\site-packages\\keras\\engine\\training.py\", line 1160, in train_function  *\n        return step_function(self, iterator)\n    File \"C:\\Python310\\lib\\site-packages\\keras\\engine\\training.py\", line 1146, in step_function  **\n        outputs = model.distribute_strategy.run(run_step, args=(data,))\n    File \"C:\\Python310\\lib\\site-packages\\keras\\engine\\training.py\", line 1135, in run_step  **\n        outputs = model.train_step(data)\n    File \"C:\\Python310\\lib\\site-packages\\keras\\engine\\training.py\", line 993, in train_step\n        y_pred = self(x, training=True)\n    File \"C:\\Python310\\lib\\site-packages\\keras\\utils\\traceback_utils.py\", line 70, in error_handler\n        raise e.with_traceback(filtered_tb) from None\n    File \"C:\\Python310\\lib\\site-packages\\keras\\engine\\input_spec.py\", line 232, in assert_input_compatibility\n        raise ValueError(\n\n    ValueError: Exception encountered when calling layer \"sequential_12\" \"                 f\"(type Sequential).\n    \n    Input 0 of layer \"time_distributed_17\" is incompatible with the layer: expected ndim=5, found ndim=4. Full shape received: (None, None, None, None)\n    \n    Call arguments received by layer \"sequential_12\" \"                 f\"(type Sequential):\n      • inputs=tf.Tensor(shape=(None, None, None, None), dtype=float32)\n      • training=True\n      • mask=None\n",
     "output_type": "error",
     "traceback": [
      "\u001b[1;31m---------------------------------------------------------------------------\u001b[0m",
      "\u001b[1;31mValueError\u001b[0m                                Traceback (most recent call last)",
      "Cell \u001b[1;32mIn [46], line 7\u001b[0m\n\u001b[0;32m      5\u001b[0m \u001b[38;5;28mprint\u001b[39m(\u001b[38;5;124m\"\u001b[39m\u001b[38;5;124m[INFO] training head...\u001b[39m\u001b[38;5;124m\"\u001b[39m)\n\u001b[0;32m      6\u001b[0m \u001b[38;5;28mprint\u001b[39m(\u001b[38;5;124m'\u001b[39m\u001b[38;5;124m-\u001b[39m\u001b[38;5;124m'\u001b[39m\u001b[38;5;241m*\u001b[39m\u001b[38;5;241m100\u001b[39m)\n\u001b[1;32m----> 7\u001b[0m H \u001b[38;5;241m=\u001b[39m \u001b[43mMoBiLSTM_model\u001b[49m\u001b[38;5;241;43m.\u001b[39;49m\u001b[43mfit\u001b[49m\u001b[43m(\u001b[49m\u001b[43mtrainAug\u001b[49m\u001b[38;5;241;43m.\u001b[39;49m\u001b[43mflow\u001b[49m\u001b[43m(\u001b[49m\u001b[43mtrainX\u001b[49m\u001b[43m,\u001b[49m\u001b[43m \u001b[49m\u001b[43mtrainY\u001b[49m\u001b[43m,\u001b[49m\u001b[43m \u001b[49m\u001b[43mbatch_size\u001b[49m\u001b[38;5;241;43m=\u001b[39;49m\u001b[38;5;241;43m32\u001b[39;49m\u001b[43m)\u001b[49m\u001b[43m,\u001b[49m\n\u001b[0;32m      8\u001b[0m \u001b[43m            \u001b[49m\u001b[43msteps_per_epoch\u001b[49m\u001b[38;5;241;43m=\u001b[39;49m\u001b[38;5;28;43mlen\u001b[39;49m\u001b[43m(\u001b[49m\u001b[43mtrainX\u001b[49m\u001b[43m)\u001b[49m\u001b[43m \u001b[49m\u001b[38;5;241;43m/\u001b[39;49m\u001b[38;5;241;43m/\u001b[39;49m\u001b[43m \u001b[49m\u001b[38;5;241;43m32\u001b[39;49m\u001b[43m,\u001b[49m\n\u001b[0;32m      9\u001b[0m \u001b[43m            \u001b[49m\u001b[43mvalidation_data\u001b[49m\u001b[38;5;241;43m=\u001b[39;49m\u001b[43mvalAug\u001b[49m\u001b[38;5;241;43m.\u001b[39;49m\u001b[43mflow\u001b[49m\u001b[43m(\u001b[49m\u001b[43mtestX\u001b[49m\u001b[43m,\u001b[49m\u001b[43m \u001b[49m\u001b[43mtestY\u001b[49m\u001b[43m)\u001b[49m\u001b[43m,\u001b[49m\n\u001b[0;32m     10\u001b[0m \u001b[43m            \u001b[49m\u001b[43mvalidation_steps\u001b[49m\u001b[38;5;241;43m=\u001b[39;49m\u001b[38;5;28;43mlen\u001b[39;49m\u001b[43m(\u001b[49m\u001b[43mtestX\u001b[49m\u001b[43m)\u001b[49m\u001b[43m \u001b[49m\u001b[38;5;241;43m/\u001b[39;49m\u001b[38;5;241;43m/\u001b[39;49m\u001b[43m \u001b[49m\u001b[38;5;241;43m32\u001b[39;49m\u001b[43m,\u001b[49m\n\u001b[0;32m     11\u001b[0m \u001b[43m            \u001b[49m\u001b[43mepochs\u001b[49m\u001b[38;5;241;43m=\u001b[39;49m\u001b[43margs\u001b[49m\u001b[43m[\u001b[49m\u001b[38;5;124;43m\"\u001b[39;49m\u001b[38;5;124;43mepochs\u001b[39;49m\u001b[38;5;124;43m\"\u001b[39;49m\u001b[43m]\u001b[49m\u001b[43m)\u001b[49m\n",
      "File \u001b[1;32mC:\\Python310\\lib\\site-packages\\keras\\utils\\traceback_utils.py:70\u001b[0m, in \u001b[0;36mfilter_traceback.<locals>.error_handler\u001b[1;34m(*args, **kwargs)\u001b[0m\n\u001b[0;32m     67\u001b[0m     filtered_tb \u001b[38;5;241m=\u001b[39m _process_traceback_frames(e\u001b[38;5;241m.\u001b[39m__traceback__)\n\u001b[0;32m     68\u001b[0m     \u001b[38;5;66;03m# To get the full stack trace, call:\u001b[39;00m\n\u001b[0;32m     69\u001b[0m     \u001b[38;5;66;03m# `tf.debugging.disable_traceback_filtering()`\u001b[39;00m\n\u001b[1;32m---> 70\u001b[0m     \u001b[38;5;28;01mraise\u001b[39;00m e\u001b[38;5;241m.\u001b[39mwith_traceback(filtered_tb) \u001b[38;5;28;01mfrom\u001b[39;00m \u001b[38;5;28mNone\u001b[39m\n\u001b[0;32m     71\u001b[0m \u001b[38;5;28;01mfinally\u001b[39;00m:\n\u001b[0;32m     72\u001b[0m     \u001b[38;5;28;01mdel\u001b[39;00m filtered_tb\n",
      "File \u001b[1;32m~\\AppData\\Local\\Temp\\__autograph_generated_filebzvfvn6w.py:15\u001b[0m, in \u001b[0;36mouter_factory.<locals>.inner_factory.<locals>.tf__train_function\u001b[1;34m(iterator)\u001b[0m\n\u001b[0;32m     13\u001b[0m \u001b[38;5;28;01mtry\u001b[39;00m:\n\u001b[0;32m     14\u001b[0m     do_return \u001b[38;5;241m=\u001b[39m \u001b[38;5;28;01mTrue\u001b[39;00m\n\u001b[1;32m---> 15\u001b[0m     retval_ \u001b[38;5;241m=\u001b[39m ag__\u001b[38;5;241m.\u001b[39mconverted_call(ag__\u001b[38;5;241m.\u001b[39mld(step_function), (ag__\u001b[38;5;241m.\u001b[39mld(\u001b[38;5;28mself\u001b[39m), ag__\u001b[38;5;241m.\u001b[39mld(iterator)), \u001b[38;5;28;01mNone\u001b[39;00m, fscope)\n\u001b[0;32m     16\u001b[0m \u001b[38;5;28;01mexcept\u001b[39;00m:\n\u001b[0;32m     17\u001b[0m     do_return \u001b[38;5;241m=\u001b[39m \u001b[38;5;28;01mFalse\u001b[39;00m\n",
      "\u001b[1;31mValueError\u001b[0m: in user code:\n\n    File \"C:\\Python310\\lib\\site-packages\\keras\\engine\\training.py\", line 1160, in train_function  *\n        return step_function(self, iterator)\n    File \"C:\\Python310\\lib\\site-packages\\keras\\engine\\training.py\", line 1146, in step_function  **\n        outputs = model.distribute_strategy.run(run_step, args=(data,))\n    File \"C:\\Python310\\lib\\site-packages\\keras\\engine\\training.py\", line 1135, in run_step  **\n        outputs = model.train_step(data)\n    File \"C:\\Python310\\lib\\site-packages\\keras\\engine\\training.py\", line 993, in train_step\n        y_pred = self(x, training=True)\n    File \"C:\\Python310\\lib\\site-packages\\keras\\utils\\traceback_utils.py\", line 70, in error_handler\n        raise e.with_traceback(filtered_tb) from None\n    File \"C:\\Python310\\lib\\site-packages\\keras\\engine\\input_spec.py\", line 232, in assert_input_compatibility\n        raise ValueError(\n\n    ValueError: Exception encountered when calling layer \"sequential_12\" \"                 f\"(type Sequential).\n    \n    Input 0 of layer \"time_distributed_17\" is incompatible with the layer: expected ndim=5, found ndim=4. Full shape received: (None, None, None, None)\n    \n    Call arguments received by layer \"sequential_12\" \"                 f\"(type Sequential):\n      • inputs=tf.Tensor(shape=(None, None, None, None), dtype=float32)\n      • training=True\n      • mask=None\n"
     ]
    }
   ],
   "source": [
    "# train the head of the network for a few epochs (all other layers\n",
    "# are frozen) -- this will allow the new FC layers to start to become\n",
    "# initialized with actual \"learned\" values versus pure random\n",
    "print('-'*100)\n",
    "print(\"[INFO] training head...\")\n",
    "print('-'*100)\n",
    "H = MoBiLSTM_model.fit(trainAug.flow(trainX, trainY, batch_size=32),\n",
    "            steps_per_epoch=len(trainX) // 32,\n",
    "            validation_data=valAug.flow(testX, testY),\n",
    "            validation_steps=len(testX) // 32,\n",
    "            epochs=args[\"epochs\"])"
   ]
  },
  {
   "cell_type": "code",
   "execution_count": null,
   "id": "394064f4",
   "metadata": {
    "collapsed": true
   },
   "outputs": [],
   "source": [
    "# evaluate the network\n",
    "print('-'*100)\n",
    "print(\"[INFO] evaluating network...\")\n",
    "print('-'*100)\n",
    "predictions = MoBiLSTM_model.predict(testX, batch_size=32)\n",
    "print(classification_report(testY.argmax(axis=1),\n",
    "\tpredictions.argmax(axis=1), target_names=lb.classes_))"
   ]
  },
  {
   "cell_type": "code",
   "execution_count": null,
   "id": "afa232bc",
   "metadata": {
    "collapsed": true
   },
   "outputs": [],
   "source": [
    "# plot the training loss and accuracy\n",
    "print('-'*100)\n",
    "print(\"[INFO] plot the training loss and accuracy...\")\n",
    "print('-'*100)\n",
    "N = args[\"epochs\"]\n",
    "plt.style.use(\"ggplot\")\n",
    "plt.figure()\n",
    "plt.plot(np.arange(0, N), H.history[\"loss\"], label=\"train_loss\")\n",
    "plt.plot(np.arange(0, N), H.history[\"val_loss\"], label=\"val_loss\")\n",
    "plt.plot(np.arange(0, N), H.history[\"accuracy\"], label=\"train_accuracy\")\n",
    "plt.plot(np.arange(0, N), H.history[\"val_accuracy\"], label=\"val_accuracy\")\n",
    "plt.title(\"Training Loss and Accuracy on Dataset\")\n",
    "plt.xlabel(\"Epoch #\")\n",
    "plt.ylabel(\"Loss/Accuracy\")\n",
    "plt.legend(loc=\"lower left\")\n",
    "plt.savefig(args[\"plot\"])"
   ]
  },
  {
   "cell_type": "code",
   "execution_count": null,
   "id": "caaa9fc9",
   "metadata": {
    "collapsed": true
   },
   "outputs": [],
   "source": [
    "# serialize the model to disk\n",
    "print('-'*100)\n",
    "print(\"[INFO] serializing network...\")\n",
    "print('-'*100)\n",
    "MoBiLSTM_model.save(args[\"model\"])"
   ]
  },
  {
   "cell_type": "code",
   "execution_count": null,
   "id": "7ef5fdb9",
   "metadata": {
    "collapsed": true
   },
   "outputs": [],
   "source": [
    "# serialize the label binarizer to disk\n",
    "f = open(args[\"label-bin\"], \"wb\")\n",
    "f.write(pickle.dumps(lb))\n",
    "f.close()"
   ]
  },
  {
   "cell_type": "code",
   "execution_count": null,
   "id": "d7ac4fb9",
   "metadata": {
    "collapsed": true
   },
   "outputs": [],
   "source": []
  }
 ],
 "metadata": {
  "kernelspec": {
   "display_name": "Python 3 (ipykernel)",
   "language": "python",
   "name": "python3"
  },
  "language_info": {
   "codemirror_mode": {
    "name": "ipython",
    "version": 3
   },
   "file_extension": ".py",
   "mimetype": "text/x-python",
   "name": "python",
   "nbconvert_exporter": "python",
   "pygments_lexer": "ipython3",
   "version": "3.10.4"
  }
 },
 "nbformat": 4,
 "nbformat_minor": 5
}
