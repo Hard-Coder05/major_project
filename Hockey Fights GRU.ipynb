{
 "cells": [
  {
   "cell_type": "code",
   "execution_count": 1,
   "id": "14396a8b",
   "metadata": {},
   "outputs": [],
   "source": [
    "#data preprocessing for feeding into lstm\n",
    "\n",
    "import cv2\n",
    "import os\n",
    "\n",
    "\n",
    "dataset=[]\n",
    "\n",
    "\n",
    "def load_images_from_folder(folder,x):\n",
    "    \n",
    "    image=[]\n",
    "    im=[]\n",
    "    c=1\n",
    "    \n",
    "    \n",
    "    for filename in os.listdir(folder):\n",
    "        img = cv2.imread(os.path.join(folder,filename))\n",
    "        n_img=cv2.resize(img,(100,100))\n",
    "        if img is not None :\n",
    "            im.append(n_img)\n",
    "        if c%10==0:\n",
    "            image.append(im)\n",
    "            image.append(x)\n",
    "            im=[]\n",
    "            dataset.append(image)\n",
    "            image=[]\n",
    "        c=c+1\n",
    "        \n",
    "load_images_from_folder( \"./HockeyFightFrames/training/nonViolence\",0)\n",
    "load_images_from_folder( \"./HockeyFightFrames/training/violence\",1)"
   ]
  },
  {
   "cell_type": "code",
   "execution_count": 2,
   "id": "3efb116a",
   "metadata": {},
   "outputs": [
    {
     "name": "stdout",
     "output_type": "stream",
     "text": [
      "3694\n"
     ]
    }
   ],
   "source": [
    "print(len(dataset))\n",
    "# print(dataset)\n",
    "\n",
    "import random\n",
    "train_data = []\n",
    "test_data = []"
   ]
  },
  {
   "cell_type": "code",
   "execution_count": 3,
   "id": "7aae8d0f",
   "metadata": {},
   "outputs": [
    {
     "name": "stdout",
     "output_type": "stream",
     "text": [
      "0\n",
      "0\n",
      "1\n",
      "1\n",
      "0\n",
      "0\n",
      "1\n",
      "0\n",
      "1\n",
      "1\n"
     ]
    }
   ],
   "source": [
    "import random\n",
    "random.shuffle(dataset)\n",
    "for samples in dataset[:10]:\n",
    "    print(samples[1])\n",
    "x=[]\n",
    "y=[]\n",
    "for img,lab in dataset:\n",
    "    x.append(img)\n",
    "    y.append(lab)"
   ]
  },
  {
   "cell_type": "code",
   "execution_count": 4,
   "id": "6deef9d9",
   "metadata": {},
   "outputs": [
    {
     "name": "stdout",
     "output_type": "stream",
     "text": [
      "(3694, 10, 100, 100, 3)\n"
     ]
    }
   ],
   "source": [
    "import numpy as np\n",
    "x=np.array(x).reshape(-1,10,100,100,3)\n",
    "print(x.shape)"
   ]
  },
  {
   "cell_type": "code",
   "execution_count": 5,
   "id": "7181773e",
   "metadata": {},
   "outputs": [],
   "source": [
    "#saving everything as pickle\n",
    "import pickle\n",
    "pickle_out=open(\"xhockeyGRU.pickle\",\"wb\")\n",
    "pickle.dump(x,pickle_out)\n",
    "pickle_out.close()\n",
    "\n",
    "\n",
    "pickle_out=open(\"yhockeyGRU.pickle\",\"wb\")\n",
    "pickle.dump(y,pickle_out)\n",
    "pickle_out.close()"
   ]
  },
  {
   "cell_type": "code",
   "execution_count": 6,
   "id": "4779fac7",
   "metadata": {},
   "outputs": [],
   "source": [
    "#loading from pickle\n",
    "import pickle\n",
    "pickle_in=open(\"xhockeyGRU.pickle\",\"rb\")\n",
    "x=pickle.load(pickle_in)\n",
    "pickle_in.close()\n",
    "\n",
    "pickle_in=open(\"yhockeyGRU.pickle\",\"rb\")\n",
    "y=pickle.load(pickle_in)\n",
    "pickle_in.close()"
   ]
  },
  {
   "cell_type": "code",
   "execution_count": 7,
   "id": "e083aa27",
   "metadata": {},
   "outputs": [],
   "source": [
    "#data preprocessing for feeding into lstm\n",
    "\n",
    "import cv2\n",
    "import os\n",
    "\n",
    "\n",
    "validset=[]\n",
    "\n",
    "\n",
    "def load_images_from_folder(folder,x):\n",
    "    \n",
    "    image=[]\n",
    "    im=[]\n",
    "    c=1\n",
    "    \n",
    "    \n",
    "    for filename in os.listdir(folder):\n",
    "        img = cv2.imread(os.path.join(folder,filename))\n",
    "        n_img=cv2.resize(img,(100,100))\n",
    "        if img is not None :\n",
    "            im.append(n_img)\n",
    "        if c%10==0:\n",
    "            image.append(im)\n",
    "            image.append(x)\n",
    "            im=[]\n",
    "            validset.append(image)\n",
    "            image=[]\n",
    "        c=c+1\n",
    "        \n",
    "load_images_from_folder( \"./HockeyFightFrames/testing/nonViolence\",0)\n",
    "load_images_from_folder( \"./HockeyFightFrames/testing/violence\",1)"
   ]
  },
  {
   "cell_type": "code",
   "execution_count": 8,
   "id": "22e2bc75",
   "metadata": {},
   "outputs": [
    {
     "name": "stdout",
     "output_type": "stream",
     "text": [
      "410\n"
     ]
    }
   ],
   "source": [
    "print(len(validset))"
   ]
  },
  {
   "cell_type": "code",
   "execution_count": 9,
   "id": "5b19be6d",
   "metadata": {},
   "outputs": [
    {
     "name": "stdout",
     "output_type": "stream",
     "text": [
      "1\n",
      "1\n",
      "0\n",
      "0\n",
      "0\n",
      "1\n",
      "0\n",
      "1\n",
      "0\n",
      "0\n"
     ]
    }
   ],
   "source": [
    "import random\n",
    "random.shuffle(validset)\n",
    "for samples in validset[:10]:\n",
    "    print(samples[1])\n",
    "x_valid=[]\n",
    "y_valid=[]\n",
    "for img,lab in validset:\n",
    "    x_valid.append(img)\n",
    "    y_valid.append(lab)"
   ]
  },
  {
   "cell_type": "code",
   "execution_count": 10,
   "id": "59926912",
   "metadata": {},
   "outputs": [
    {
     "name": "stdout",
     "output_type": "stream",
     "text": [
      "(410, 10, 100, 100, 3)\n"
     ]
    }
   ],
   "source": [
    "import numpy as np\n",
    "x_valid=np.array(x_valid).reshape(-1,10,100,100,3)\n",
    "print(x_valid.shape)"
   ]
  },
  {
   "cell_type": "code",
   "execution_count": 11,
   "id": "d1f1be77",
   "metadata": {},
   "outputs": [],
   "source": [
    "x_valid=x_valid.astype('float32')/255\n",
    "import tensorflow as tf\n",
    "from tensorflow.keras.callbacks import TensorBoard"
   ]
  },
  {
   "cell_type": "code",
   "execution_count": 12,
   "id": "7c279751",
   "metadata": {},
   "outputs": [
    {
     "name": "stdout",
     "output_type": "stream",
     "text": [
      "Model: \"sequential_1\"\n",
      "_________________________________________________________________\n",
      " Layer (type)                Output Shape              Param #   \n",
      "=================================================================\n",
      " time_distributed (TimeDistr  (None, 10, 11520)        2257984   \n",
      " ibuted)                                                         \n",
      "                                                                 \n",
      " gru (GRU)                   (None, 32)                1109184   \n",
      "                                                                 \n",
      " dropout (Dropout)           (None, 32)                0         \n",
      "                                                                 \n",
      " dense (Dense)               (None, 64)                2112      \n",
      "                                                                 \n",
      " dropout_1 (Dropout)         (None, 64)                0         \n",
      "                                                                 \n",
      " dense_1 (Dense)             (None, 32)                2080      \n",
      "                                                                 \n",
      " dropout_2 (Dropout)         (None, 32)                0         \n",
      "                                                                 \n",
      " dense_2 (Dense)             (None, 2)                 66        \n",
      "                                                                 \n",
      "=================================================================\n",
      "Total params: 3,371,426\n",
      "Trainable params: 3,337,314\n",
      "Non-trainable params: 34,112\n",
      "_________________________________________________________________\n",
      "None\n"
     ]
    }
   ],
   "source": [
    "from keras import backend as K\n",
    "import tensorflow as tf\n",
    "from tensorflow.keras.models import Sequential\n",
    "from tensorflow.keras.layers import Dense, TimeDistributed,Dropout, Activation, Flatten,Conv2D, MaxPooling2D,LSTM,Bidirectional\n",
    "from tensorflow.keras.optimizers import Adam, SGD\n",
    "from tensorflow.keras.callbacks import TensorBoard\n",
    "from tensorflow.keras.applications import MobileNetV2\n",
    "from keras.layers import GRU\n",
    "\n",
    "# K.image_data_format('tf')\n",
    "import numpy as np\n",
    "x=x.astype('float32')/255\n",
    "NAME=\"HOCKEYFINALGRU\"\n",
    "tensorboard=TensorBoard(log_dir='logs/{}'.format(NAME))\n",
    "\n",
    "mobilenet = MobileNetV2(\n",
    "    input_shape=None,\n",
    "    include_top= False,\n",
    "    weights=None,\n",
    "    input_tensor=None,\n",
    "    pooling=None,\n",
    ")\n",
    "\n",
    "## training the CNN\n",
    "cnn = Sequential()\n",
    "\n",
    "cnn.add(mobilenet)\n",
    "\n",
    "#converting to 1-d tensor\n",
    "cnn.add(Flatten())\n",
    "\n",
    "model=Sequential()\n",
    "model.add(TimeDistributed(cnn,input_shape=x.shape[1:]))\n",
    "\n",
    "model.add(GRU(32))\n",
    "\n",
    "model.add(Dropout(0.25))\n",
    "\n",
    "model.add(Dense(64,activation='relu'))\n",
    "model.add(Dropout(0.25))\n",
    "\n",
    "model.add(Dense(32,activation='relu'))\n",
    "model.add(Dropout(0.25))\n",
    "    \n",
    "model.add(Dense(2,activation='sigmoid'))\n",
    "model.compile(loss='sparse_categorical_crossentropy',optimizer='SGD',metrics=['accuracy'])\n",
    "print(model.summary())"
   ]
  },
  {
   "cell_type": "code",
   "execution_count": null,
   "id": "cdfc8488",
   "metadata": {},
   "outputs": [
    {
     "name": "stdout",
     "output_type": "stream",
     "text": [
      "Epoch 1/30\n",
      "185/185 [==============================] - 1419s 8s/step - loss: 0.4736 - accuracy: 0.7702 - val_loss: 0.7003 - val_accuracy: 0.5000\n",
      "Epoch 2/30\n",
      "185/185 [==============================] - 1308s 7s/step - loss: 0.2407 - accuracy: 0.9182 - val_loss: 0.7630 - val_accuracy: 0.5000\n",
      "Epoch 3/30\n",
      "185/185 [==============================] - 1323s 7s/step - loss: 0.1748 - accuracy: 0.9450 - val_loss: 0.7500 - val_accuracy: 0.5000\n",
      "Epoch 4/30\n",
      "185/185 [==============================] - 1299s 7s/step - loss: 0.1296 - accuracy: 0.9597 - val_loss: 0.8484 - val_accuracy: 0.5000\n",
      "Epoch 5/30\n",
      "185/185 [==============================] - 1308s 7s/step - loss: 0.1034 - accuracy: 0.9659 - val_loss: 1.0609 - val_accuracy: 0.5000\n",
      "Epoch 6/30\n",
      " 59/185 [========>.....................] - ETA: 2:42:58 - loss: 0.1015 - accuracy: 0.9636"
     ]
    }
   ],
   "source": [
    "x = np.array(x)\n",
    "y = np.array(y)\n",
    "x_valid = np.array(x_valid)\n",
    "y_valid = np.array(y_valid)\n",
    "\n",
    "H = model.fit(x,y,epochs=30,validation_data=(x_valid,y_valid),batch_size=20, callbacks=[tensorboard])\n",
    "model.save(\"HockeyGRU.h5\")"
   ]
  },
  {
   "cell_type": "code",
   "execution_count": null,
   "id": "4270b9e8",
   "metadata": {},
   "outputs": [],
   "source": []
  }
 ],
 "metadata": {
  "kernelspec": {
   "display_name": "Python 3 (ipykernel)",
   "language": "python",
   "name": "python3"
  },
  "language_info": {
   "codemirror_mode": {
    "name": "ipython",
    "version": 3
   },
   "file_extension": ".py",
   "mimetype": "text/x-python",
   "name": "python",
   "nbconvert_exporter": "python",
   "pygments_lexer": "ipython3",
   "version": "3.10.6"
  }
 },
 "nbformat": 4,
 "nbformat_minor": 5
}
