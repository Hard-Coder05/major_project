{
 "cells": [
  {
   "cell_type": "code",
   "execution_count": 1,
   "id": "05ea7604",
   "metadata": {},
   "outputs": [],
   "source": [
    "import os\n",
    "import glob\n",
    "import cv2\n",
    "import random\n",
    "from PIL import Image\n",
    "from tqdm import tqdm\n",
    "\n",
    "def save_to_frame(input_dir, save_dir, category):\n",
    "    \"\"\"\n",
    "    input:\n",
    "        input_dir: directory to the video files\n",
    "        save_dir: directory to save the frames converted from the video\n",
    "    output:\n",
    "        None\n",
    "    \"\"\"\n",
    "    os.makedirs(save_dir, exist_ok=True)\n",
    "    for path in tqdm(glob.glob(input_dir + '/*')):\n",
    "        fname = os.path.basename(path).split('.')[0]\n",
    "#         os.makedirs(os.path.join(save_dir, fname), exist_ok=True)\n",
    "        vidcap = cv2.VideoCapture(path)\n",
    "        success, image = vidcap.read()\n",
    "        count = 0\n",
    "        while success:\n",
    "            if count % 1 == 0:\n",
    "                #print(\"count = {}\".format(count))\n",
    "                cv2.imwrite(\"{}/{}-{}.jpg\".format(save_dir, fname, str(count).zfill(4)), image)     # save frame as JPEG file            \n",
    "            success, image = vidcap.read()\n",
    "            count += 1\n"
   ]
  },
  {
   "cell_type": "code",
   "execution_count": 2,
   "id": "a15b6e35",
   "metadata": {},
   "outputs": [
    {
     "name": "stderr",
     "output_type": "stream",
     "text": [
      "100%|██████████████████████████████████████████████████████████████████████████████████| 71/71 [18:42<00:00, 15.81s/it]\n"
     ]
    }
   ],
   "source": [
    "save_to_frame(\"./SCVD/Videos/Testing/Violence\", \"./SCVD/Frames/Testing/Violence\", \"violence\")"
   ]
  },
  {
   "cell_type": "code",
   "execution_count": 3,
   "id": "29c4684a",
   "metadata": {},
   "outputs": [
    {
     "name": "stderr",
     "output_type": "stream",
     "text": [
      "100%|██████████████████████████████████████████████████████████████████████████████| 165/165 [1:00:05<00:00, 21.85s/it]\n"
     ]
    }
   ],
   "source": [
    "save_to_frame(\"./SCVD/Videos/Training/Violence\", \"./SCVD/Frames/Training/Violence\", \"violence\")"
   ]
  },
  {
   "cell_type": "code",
   "execution_count": 4,
   "id": "daf6e284",
   "metadata": {},
   "outputs": [
    {
     "name": "stderr",
     "output_type": "stream",
     "text": [
      "100%|██████████████████████████████████████████████████████████████████████████████████| 74/74 [06:28<00:00,  5.25s/it]\n"
     ]
    }
   ],
   "source": [
    "save_to_frame(\"./SCVD/Videos/Testing/NonViolence\", \"./SCVD/Frames/Testing/NonViolence\", \"nonViolence\")"
   ]
  },
  {
   "cell_type": "code",
   "execution_count": 5,
   "id": "8be7de09",
   "metadata": {},
   "outputs": [
    {
     "name": "stderr",
     "output_type": "stream",
     "text": [
      "100%|████████████████████████████████████████████████████████████████████████████████| 172/172 [17:59<00:00,  6.28s/it]\n"
     ]
    }
   ],
   "source": [
    "save_to_frame(\"./SCVD/Videos/Training/NonViolence\", \"./SCVD/Frames/Training/NonViolence\", \"nonViolence\")"
   ]
  },
  {
   "cell_type": "code",
   "execution_count": 1,
   "id": "2836cc15",
   "metadata": {},
   "outputs": [],
   "source": [
    "#data preprocessing for feeding into lstm\n",
    "import cv2\n",
    "import os\n",
    "dataset=[]\n",
    "def load_images_from_folder(folder,x):\n",
    "    image=[]\n",
    "    im=[]\n",
    "    c=1\n",
    "    for filename in os.listdir(folder):\n",
    "        img = cv2.imread(os.path.join(folder,filename))\n",
    "        n_img=cv2.resize(img,(100,100))\n",
    "        if img is not None :\n",
    "            im.append(n_img)\n",
    "        if c%10==0:\n",
    "            image.append(im)\n",
    "            image.append(x)\n",
    "            im=[]\n",
    "            dataset.append(image)\n",
    "            image=[]\n",
    "        c=c+1\n",
    "        \n",
    "load_images_from_folder(\"./SCVD/Frames/Training/NonViolence\",0)\n",
    "load_images_from_folder(\"./SCVD/Frames/Training/Violence\",1)"
   ]
  },
  {
   "cell_type": "code",
   "execution_count": 2,
   "id": "ded92e77",
   "metadata": {},
   "outputs": [
    {
     "name": "stdout",
     "output_type": "stream",
     "text": [
      "6207\n"
     ]
    }
   ],
   "source": [
    "print(len(dataset))\n",
    "# print(dataset)\n",
    "\n",
    "import random\n",
    "train_data = []\n",
    "test_data = []"
   ]
  },
  {
   "cell_type": "code",
   "execution_count": 3,
   "id": "74e6bf6e",
   "metadata": {},
   "outputs": [
    {
     "name": "stdout",
     "output_type": "stream",
     "text": [
      "1\n",
      "0\n",
      "1\n",
      "1\n",
      "1\n",
      "1\n",
      "1\n",
      "1\n",
      "1\n",
      "1\n"
     ]
    }
   ],
   "source": [
    "import random\n",
    "random.shuffle(dataset)\n",
    "for samples in dataset[:10]:\n",
    "    print(samples[1])\n",
    "x=[]\n",
    "y=[]\n",
    "for img,lab in dataset:\n",
    "    x.append(img)\n",
    "    y.append(lab)"
   ]
  },
  {
   "cell_type": "code",
   "execution_count": 4,
   "id": "27489c72",
   "metadata": {},
   "outputs": [
    {
     "name": "stdout",
     "output_type": "stream",
     "text": [
      "(6207, 10, 100, 100, 3)\n"
     ]
    }
   ],
   "source": [
    "import numpy as np\n",
    "x=np.array(x).reshape(-1,10,100,100,3)\n",
    "print(x.shape)"
   ]
  },
  {
   "cell_type": "code",
   "execution_count": 5,
   "id": "dc4a75d3",
   "metadata": {},
   "outputs": [],
   "source": [
    "#saving everything as pickle\n",
    "import pickle\n",
    "pickle_out=open(\"xhockey.pickle\",\"wb\")\n",
    "pickle.dump(x,pickle_out)\n",
    "pickle_out.close()\n",
    "\n",
    "\n",
    "pickle_out=open(\"yhockey.pickle\",\"wb\")\n",
    "pickle.dump(y,pickle_out)\n",
    "pickle_out.close()"
   ]
  },
  {
   "cell_type": "code",
   "execution_count": 6,
   "id": "db7215ee",
   "metadata": {},
   "outputs": [],
   "source": [
    "#loading from pickle\n",
    "import pickle\n",
    "pickle_in=open(\"xhockey.pickle\",\"rb\")\n",
    "x=pickle.load(pickle_in)\n",
    "pickle_in.close()\n",
    "\n",
    "pickle_in=open(\"yhockey.pickle\",\"rb\")\n",
    "y=pickle.load(pickle_in)\n",
    "pickle_in.close()"
   ]
  },
  {
   "cell_type": "code",
   "execution_count": 7,
   "id": "83abd39e",
   "metadata": {},
   "outputs": [],
   "source": [
    "#data preprocessing for feeding into lstm\n",
    "import cv2\n",
    "import os\n",
    "validset=[]\n",
    "def load_images_from_folder(folder,x):\n",
    "    image=[]\n",
    "    im=[]\n",
    "    c=1\n",
    "    for filename in os.listdir(folder):\n",
    "        img = cv2.imread(os.path.join(folder,filename))\n",
    "        n_img=cv2.resize(img,(100,100))\n",
    "        if img is not None :\n",
    "            im.append(n_img)\n",
    "        if c%10==0:\n",
    "            image.append(im)\n",
    "            image.append(x)\n",
    "            im=[]\n",
    "            validset.append(image)\n",
    "            image=[]\n",
    "        c=c+1 \n",
    "load_images_from_folder(\"./SCVD/Frames/Testing/NonViolence\",0)\n",
    "load_images_from_folder(\"./SCVD/Frames/Testing/Violence\",1)"
   ]
  },
  {
   "cell_type": "code",
   "execution_count": 8,
   "id": "439b35c0",
   "metadata": {},
   "outputs": [
    {
     "name": "stdout",
     "output_type": "stream",
     "text": [
      "2624\n"
     ]
    }
   ],
   "source": [
    "print(len(validset))"
   ]
  },
  {
   "cell_type": "code",
   "execution_count": 9,
   "id": "ed02ee90",
   "metadata": {},
   "outputs": [
    {
     "name": "stdout",
     "output_type": "stream",
     "text": [
      "0\n",
      "1\n",
      "0\n",
      "1\n",
      "1\n",
      "0\n",
      "1\n",
      "1\n",
      "0\n",
      "1\n"
     ]
    }
   ],
   "source": [
    "import random\n",
    "random.shuffle(validset)\n",
    "for samples in validset[:10]:\n",
    "    print(samples[1])\n",
    "x_valid=[]\n",
    "y_valid=[]\n",
    "for img,lab in validset:\n",
    "    x_valid.append(img)\n",
    "    y_valid.append(lab)"
   ]
  },
  {
   "cell_type": "code",
   "execution_count": 10,
   "id": "a5c389a3",
   "metadata": {},
   "outputs": [
    {
     "name": "stdout",
     "output_type": "stream",
     "text": [
      "(2624, 10, 100, 100, 3)\n"
     ]
    }
   ],
   "source": [
    "import numpy as np\n",
    "x_valid=np.array(x_valid).reshape(-1,10,100,100,3)\n",
    "print(x_valid.shape)"
   ]
  },
  {
   "cell_type": "code",
   "execution_count": 11,
   "id": "f5c702e2",
   "metadata": {},
   "outputs": [],
   "source": [
    "x_valid=x_valid.astype('float32')/255\n",
    "import tensorflow as tf\n",
    "from tensorflow.keras.callbacks import TensorBoard"
   ]
  },
  {
   "cell_type": "code",
   "execution_count": 12,
   "id": "f07d5158",
   "metadata": {},
   "outputs": [
    {
     "name": "stdout",
     "output_type": "stream",
     "text": [
      "Model: \"sequential_1\"\n",
      "_________________________________________________________________\n",
      " Layer (type)                Output Shape              Param #   \n",
      "=================================================================\n",
      " time_distributed (TimeDistr  (None, 10, 11520)        2257984   \n",
      " ibuted)                                                         \n",
      "                                                                 \n",
      " bidirectional (Bidirectiona  (None, 64)               2957568   \n",
      " l)                                                              \n",
      "                                                                 \n",
      " dropout (Dropout)           (None, 64)                0         \n",
      "                                                                 \n",
      " dense (Dense)               (None, 64)                4160      \n",
      "                                                                 \n",
      " dropout_1 (Dropout)         (None, 64)                0         \n",
      "                                                                 \n",
      " dense_1 (Dense)             (None, 32)                2080      \n",
      "                                                                 \n",
      " dropout_2 (Dropout)         (None, 32)                0         \n",
      "                                                                 \n",
      " dense_2 (Dense)             (None, 2)                 66        \n",
      "                                                                 \n",
      "=================================================================\n",
      "Total params: 5,221,858\n",
      "Trainable params: 5,187,746\n",
      "Non-trainable params: 34,112\n",
      "_________________________________________________________________\n",
      "None\n"
     ]
    }
   ],
   "source": [
    "from keras import backend as K\n",
    "import tensorflow as tf\n",
    "from tensorflow.keras.models import Sequential\n",
    "from tensorflow.keras.layers import Dense, TimeDistributed,Dropout, Activation, Flatten,Conv2D, MaxPooling2D,LSTM,Bidirectional\n",
    "from tensorflow.keras.optimizers import Adam, SGD\n",
    "from tensorflow.keras.callbacks import TensorBoard\n",
    "from tensorflow.keras.applications import MobileNetV2\n",
    "\n",
    "# K.image_data_format('tf')\n",
    "import numpy as np\n",
    "x=x.astype('float32')/255\n",
    "NAME=\"SCVD\"\n",
    "tensorboard=TensorBoard(log_dir='logs/{}'.format(NAME))\n",
    "\n",
    "mobilenet = MobileNetV2(\n",
    "    input_shape=None,\n",
    "#     alpha=1.0,\n",
    "    include_top= False,\n",
    "    weights=None,\n",
    "    input_tensor=None,\n",
    "    pooling=None,\n",
    "#     classes=3,\n",
    "#     classifier_activation=\"softmax\"\n",
    ")\n",
    "\n",
    "## training the CNN\n",
    "cnn = Sequential()\n",
    "cnn.add(mobilenet)\n",
    "\n",
    "#converting to 1-d tensor\n",
    "cnn.add(Flatten())\n",
    "model=Sequential()\n",
    "model.add(TimeDistributed(cnn,input_shape=x.shape[1:]))\n",
    "model.add(Bidirectional(LSTM(32)))\n",
    "model.add(Dropout(0.25))\n",
    "# model.add(Dense(256,activation='relu'))\n",
    "# model.add(Dropout(0.25))\n",
    "# model.add(Dense(128,activation='relu'))\n",
    "# model.add(Dropout(0.25))\n",
    "model.add(Dense(64,activation='relu'))\n",
    "model.add(Dropout(0.25))\n",
    "model.add(Dense(32,activation='relu'))\n",
    "model.add(Dropout(0.25))\n",
    "model.add(Dense(2,activation='sigmoid'))\n",
    "model.compile(loss='sparse_categorical_crossentropy',optimizer='SGD',metrics=['accuracy'])\n",
    "print(model.summary())"
   ]
  },
  {
   "cell_type": "code",
   "execution_count": null,
   "id": "4fc2e7a5",
   "metadata": {},
   "outputs": [],
   "source": [
    "x = np.array(x)\n",
    "y = np.array(y)\n",
    "x_valid = np.array(x_valid)\n",
    "y_valid = np.array(y_valid)\n",
    "\n",
    "model.fit(x,y,epochs=30,validation_data=(x_valid,y_valid),batch_size=20, callbacks=[tensorboard])\n",
    "model.save(\"MobiBiLSTM-SCVD.h5\")"
   ]
  },
  {
   "cell_type": "code",
   "execution_count": null,
   "id": "b5e95cbf",
   "metadata": {},
   "outputs": [],
   "source": [
    "print(model.summary())"
   ]
  },
  {
   "cell_type": "code",
   "execution_count": null,
   "id": "eaf5cd6d",
   "metadata": {},
   "outputs": [],
   "source": []
  }
 ],
 "metadata": {
  "kernelspec": {
   "display_name": "Python 3 (ipykernel)",
   "language": "python",
   "name": "python3"
  },
  "language_info": {
   "codemirror_mode": {
    "name": "ipython",
    "version": 3
   },
   "file_extension": ".py",
   "mimetype": "text/x-python",
   "name": "python",
   "nbconvert_exporter": "python",
   "pygments_lexer": "ipython3",
   "version": "3.10.4"
  }
 },
 "nbformat": 4,
 "nbformat_minor": 5
}
