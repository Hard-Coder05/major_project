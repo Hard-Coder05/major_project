{
 "cells": [
  {
   "cell_type": "code",
   "execution_count": 1,
   "id": "71a45408",
   "metadata": {},
   "outputs": [],
   "source": [
    "from keras.preprocessing.image import ImageDataGenerator\n",
    "from keras.layers.pooling import AveragePooling2D\n",
    "from tensorflow.keras.applications import MobileNetV2\n",
    "from keras.layers.core import Dropout\n",
    "from keras.layers.core import Flatten\n",
    "from keras.layers.core import Dense\n",
    "from keras.layers import Input\n",
    "from keras.models import Model\n",
    "from tensorflow.keras.utils import to_categorical\n",
    "from tensorflow.keras.optimizers import SGD\n",
    "from tensorflow.keras.utils import to_categorical \n",
    "from sklearn.preprocessing import LabelBinarizer\n",
    "from sklearn.model_selection import train_test_split\n",
    "from sklearn.metrics import classification_report\n",
    "from imutils import paths\n",
    "from tqdm import tqdm\n",
    "import matplotlib.pyplot as plt\n",
    "import numpy as np\n",
    "import warnings\n",
    "import argparse\n",
    "import pickle\n",
    "import cv2\n",
    "import os\n",
    "import sys\n",
    "import glob\n",
    "import matplotlib\n",
    "matplotlib.use(\"Agg\")"
   ]
  },
  {
   "cell_type": "code",
   "execution_count": 2,
   "id": "1a92c6d9",
   "metadata": {},
   "outputs": [],
   "source": [
    "warnings.filterwarnings('ignore',category=FutureWarning)\n",
    "warnings.filterwarnings('ignore',category=DeprecationWarning)"
   ]
  },
  {
   "cell_type": "code",
   "execution_count": 3,
   "id": "b2251985",
   "metadata": {},
   "outputs": [],
   "source": [
    "args = {\n",
    "    \"dataset\": \"./SCVD_mini/Frames\",\n",
    "    \"model\": \"./MoBiLSTM5x3/models/MoBiLSTM5x3.h5\",\n",
    "    \"label-bin\": \"./MoBiLSTM5x3/label-bin/MoBiLSTM5x3.pickle\",\n",
    "    \"epochs\": 30,\n",
    "    \"plot\": \"./MoBiLSTM5x3/plots/MoBiLSTM5x3.png\"\n",
    "}"
   ]
  },
  {
   "cell_type": "code",
   "execution_count": 4,
   "id": "cc6cde8b",
   "metadata": {},
   "outputs": [
    {
     "name": "stdout",
     "output_type": "stream",
     "text": [
      "----------------------------------------------------------------------------------------------------\n",
      "[INFO] loading images...\n",
      "----------------------------------------------------------------------------------------------------\n",
      "['./SCVD_mini/5x3\\\\NonViolence\\\\nv1_merge_0.jpg', './SCVD_mini/5x3\\\\NonViolence\\\\nv1_merge_1.jpg', './SCVD_mini/5x3\\\\NonViolence\\\\nv1_merge_2.jpg', './SCVD_mini/5x3\\\\NonViolence\\\\nv1_merge_3.jpg', './SCVD_mini/5x3\\\\NonViolence\\\\nv1_merge_4.jpg', './SCVD_mini/5x3\\\\NonViolence\\\\nv1_merge_5.jpg', './SCVD_mini/5x3\\\\NonViolence\\\\nv1_merge_6.jpg', './SCVD_mini/5x3\\\\NonViolence\\\\nv1_merge_7.jpg', './SCVD_mini/5x3\\\\NonViolence\\\\nv1_merge_8.jpg', './SCVD_mini/5x3\\\\NonViolence\\\\nv1_merge_9.jpg', './SCVD_mini/5x3\\\\NonViolence\\\\nv2_merge_0.jpg', './SCVD_mini/5x3\\\\NonViolence\\\\nv2_merge_1.jpg', './SCVD_mini/5x3\\\\NonViolence\\\\nv2_merge_2.jpg', './SCVD_mini/5x3\\\\NonViolence\\\\nv2_merge_3.jpg', './SCVD_mini/5x3\\\\NonViolence\\\\nv2_merge_4.jpg', './SCVD_mini/5x3\\\\NonViolence\\\\nv2_merge_5.jpg', './SCVD_mini/5x3\\\\NonViolence\\\\nv2_merge_6.jpg', './SCVD_mini/5x3\\\\NonViolence\\\\nv2_merge_7.jpg', './SCVD_mini/5x3\\\\NonViolence\\\\nv2_merge_8.jpg', './SCVD_mini/5x3\\\\NonViolence\\\\nv2_merge_9.jpg', './SCVD_mini/5x3\\\\NonViolence\\\\nv3_merge_0.jpg', './SCVD_mini/5x3\\\\NonViolence\\\\nv3_merge_1.jpg', './SCVD_mini/5x3\\\\NonViolence\\\\nv3_merge_2.jpg', './SCVD_mini/5x3\\\\NonViolence\\\\nv3_merge_3.jpg', './SCVD_mini/5x3\\\\NonViolence\\\\nv3_merge_4.jpg', './SCVD_mini/5x3\\\\NonViolence\\\\nv3_merge_5.jpg', './SCVD_mini/5x3\\\\NonViolence\\\\nv3_merge_6.jpg', './SCVD_mini/5x3\\\\NonViolence\\\\nv3_merge_7.jpg', './SCVD_mini/5x3\\\\NonViolence\\\\nv3_merge_8.jpg', './SCVD_mini/5x3\\\\Violence\\\\V1_merge_0.jpg', './SCVD_mini/5x3\\\\Violence\\\\V1_merge_1.jpg', './SCVD_mini/5x3\\\\Violence\\\\V1_merge_10.jpg', './SCVD_mini/5x3\\\\Violence\\\\V1_merge_11.jpg', './SCVD_mini/5x3\\\\Violence\\\\V1_merge_2.jpg', './SCVD_mini/5x3\\\\Violence\\\\V1_merge_3.jpg', './SCVD_mini/5x3\\\\Violence\\\\V1_merge_4.jpg', './SCVD_mini/5x3\\\\Violence\\\\V1_merge_5.jpg', './SCVD_mini/5x3\\\\Violence\\\\V1_merge_6.jpg', './SCVD_mini/5x3\\\\Violence\\\\V1_merge_7.jpg', './SCVD_mini/5x3\\\\Violence\\\\V1_merge_8.jpg', './SCVD_mini/5x3\\\\Violence\\\\V1_merge_9.jpg', './SCVD_mini/5x3\\\\Violence\\\\V2_merge_0.jpg', './SCVD_mini/5x3\\\\Violence\\\\V2_merge_1.jpg', './SCVD_mini/5x3\\\\Violence\\\\V2_merge_10.jpg', './SCVD_mini/5x3\\\\Violence\\\\V2_merge_2.jpg', './SCVD_mini/5x3\\\\Violence\\\\V2_merge_3.jpg', './SCVD_mini/5x3\\\\Violence\\\\V2_merge_4.jpg', './SCVD_mini/5x3\\\\Violence\\\\V2_merge_5.jpg', './SCVD_mini/5x3\\\\Violence\\\\V2_merge_6.jpg', './SCVD_mini/5x3\\\\Violence\\\\V2_merge_7.jpg', './SCVD_mini/5x3\\\\Violence\\\\V2_merge_8.jpg', './SCVD_mini/5x3\\\\Violence\\\\V2_merge_9.jpg', './SCVD_mini/5x3\\\\Violence\\\\V3_merge_0.jpg', './SCVD_mini/5x3\\\\Violence\\\\V3_merge_1.jpg', './SCVD_mini/5x3\\\\Violence\\\\V3_merge_2.jpg', './SCVD_mini/5x3\\\\Violence\\\\V3_merge_3.jpg', './SCVD_mini/5x3\\\\Violence\\\\V3_merge_4.jpg', './SCVD_mini/5x3\\\\WeaponViolence\\\\WV1_merge_0.jpg', './SCVD_mini/5x3\\\\WeaponViolence\\\\WV1_merge_1.jpg', './SCVD_mini/5x3\\\\WeaponViolence\\\\WV1_merge_2.jpg', './SCVD_mini/5x3\\\\WeaponViolence\\\\WV1_merge_3.jpg', './SCVD_mini/5x3\\\\WeaponViolence\\\\WV1_merge_4.jpg', './SCVD_mini/5x3\\\\WeaponViolence\\\\WV1_merge_5.jpg', './SCVD_mini/5x3\\\\WeaponViolence\\\\WV1_merge_6.jpg', './SCVD_mini/5x3\\\\WeaponViolence\\\\WV1_merge_7.jpg', './SCVD_mini/5x3\\\\WeaponViolence\\\\WV1_merge_8.jpg', './SCVD_mini/5x3\\\\WeaponViolence\\\\WV1_merge_9.jpg', './SCVD_mini/5x3\\\\WeaponViolence\\\\WV2_merge_0.jpg', './SCVD_mini/5x3\\\\WeaponViolence\\\\WV2_merge_1.jpg', './SCVD_mini/5x3\\\\WeaponViolence\\\\WV2_merge_2.jpg', './SCVD_mini/5x3\\\\WeaponViolence\\\\WV2_merge_3.jpg', './SCVD_mini/5x3\\\\WeaponViolence\\\\WV2_merge_4.jpg', './SCVD_mini/5x3\\\\WeaponViolence\\\\WV2_merge_5.jpg', './SCVD_mini/5x3\\\\WeaponViolence\\\\WV2_merge_6.jpg', './SCVD_mini/5x3\\\\WeaponViolence\\\\WV2_merge_7.jpg', './SCVD_mini/5x3\\\\WeaponViolence\\\\WV2_merge_8.jpg', './SCVD_mini/5x3\\\\WeaponViolence\\\\WV2_merge_9.jpg', './SCVD_mini/5x3\\\\WeaponViolence\\\\WV3_merge_0.jpg', './SCVD_mini/5x3\\\\WeaponViolence\\\\WV3_merge_1.jpg', './SCVD_mini/5x3\\\\WeaponViolence\\\\WV3_merge_10.jpg', './SCVD_mini/5x3\\\\WeaponViolence\\\\WV3_merge_2.jpg', './SCVD_mini/5x3\\\\WeaponViolence\\\\WV3_merge_3.jpg', './SCVD_mini/5x3\\\\WeaponViolence\\\\WV3_merge_4.jpg', './SCVD_mini/5x3\\\\WeaponViolence\\\\WV3_merge_5.jpg', './SCVD_mini/5x3\\\\WeaponViolence\\\\WV3_merge_6.jpg', './SCVD_mini/5x3\\\\WeaponViolence\\\\WV3_merge_7.jpg', './SCVD_mini/5x3\\\\WeaponViolence\\\\WV3_merge_8.jpg', './SCVD_mini/5x3\\\\WeaponViolence\\\\WV3_merge_9.jpg']\n"
     ]
    }
   ],
   "source": [
    "# initialize the set of labels from the spots activity dataset we are\n",
    "# going to train our network on\n",
    "LABELS = set([\"Violence\", \"NonViolence\", \"WeaponViolence\"])\n",
    "\n",
    "# grab the list of images in our dataset directory, then initialize\n",
    "# the list of data (i.e., images) and class images\n",
    "print('-'*100)\n",
    "print(\"[INFO] loading images...\")\n",
    "print('-'*100)\n",
    "from imutils import paths\n",
    "imagePaths = list(paths.list_images(args[\"dataset\"]))\n",
    "print(imagePaths)\n",
    "data = []\n",
    "labels = []"
   ]
  },
  {
   "cell_type": "code",
   "execution_count": 5,
   "id": "ad31c9c0",
   "metadata": {},
   "outputs": [
    {
     "name": "stderr",
     "output_type": "stream",
     "text": [
      "100%|██████████████████████████████████████████████████████████████████████████████████| 88/88 [00:56<00:00,  1.57it/s]\n"
     ]
    }
   ],
   "source": [
    "# loop over the image paths\n",
    "for imagePath in tqdm(imagePaths[::]):\n",
    "    # imagePath : file name ex) V_123\n",
    "    # extract the class label from the filename\n",
    "    label = imagePath.split(os.path.sep)[-2] # Violence / NonViolence\n",
    "\n",
    "    # if the label of the current image is not part of of the labels\n",
    "    # are interested in, then ignore the image\n",
    "    if label not in LABELS:\n",
    "        continue\n",
    "\n",
    "    # load the image, convert it to RGB channel ordering, and resize\n",
    "    # it to be a fixed 224x224 pixels, ignoring aspect ratio\n",
    "    image = cv2.imread(imagePath)\n",
    "    image = cv2.cvtColor(image, cv2.COLOR_BGR2RGB)\n",
    "    image = cv2.resize(image, (224, 224))\n",
    "\n",
    "    # update the data and labels lists, respectively\n",
    "    data.append(image)\n",
    "    labels.append(label)"
   ]
  },
  {
   "cell_type": "code",
   "execution_count": 40,
   "id": "8654b2b1",
   "metadata": {},
   "outputs": [
    {
     "ename": "ValueError",
     "evalue": "cannot reshape array of size 13246464 into shape (10,224,224,3)",
     "output_type": "error",
     "traceback": [
      "\u001b[1;31m---------------------------------------------------------------------------\u001b[0m",
      "\u001b[1;31mValueError\u001b[0m                                Traceback (most recent call last)",
      "Cell \u001b[1;32mIn [40], line 2\u001b[0m\n\u001b[0;32m      1\u001b[0m \u001b[38;5;66;03m# convert the data and labels to NumPy arrays\u001b[39;00m\n\u001b[1;32m----> 2\u001b[0m dt \u001b[38;5;241m=\u001b[39m \u001b[43mnp\u001b[49m\u001b[38;5;241;43m.\u001b[39;49m\u001b[43marray\u001b[49m\u001b[43m(\u001b[49m\u001b[43mdata\u001b[49m\u001b[43m)\u001b[49m\u001b[38;5;241;43m.\u001b[39;49m\u001b[43mreshape\u001b[49m\u001b[43m(\u001b[49m\u001b[43m(\u001b[49m\u001b[38;5;241;43m-\u001b[39;49m\u001b[38;5;241;43m1\u001b[39;49m\u001b[43m,\u001b[49m\u001b[38;5;241;43m10\u001b[39;49m\u001b[43m,\u001b[49m\u001b[38;5;241;43m224\u001b[39;49m\u001b[43m,\u001b[49m\u001b[38;5;241;43m224\u001b[39;49m\u001b[43m,\u001b[49m\u001b[38;5;241;43m3\u001b[39;49m\u001b[43m)\u001b[49m\u001b[43m)\u001b[49m\n\u001b[0;32m      3\u001b[0m lbls \u001b[38;5;241m=\u001b[39m np\u001b[38;5;241m.\u001b[39marray(labels)\n\u001b[0;32m      6\u001b[0m \u001b[38;5;66;03m# perform one-hot encoding on the labels\u001b[39;00m\n",
      "\u001b[1;31mValueError\u001b[0m: cannot reshape array of size 13246464 into shape (10,224,224,3)"
     ]
    }
   ],
   "source": [
    "# convert the data and labels to NumPy arrays\n",
    "dt = np.array(data).reshape(224,224,3)\n",
    "lbls = np.array(labels)\n",
    "\n",
    "\n",
    "# perform one-hot encoding on the labels\n",
    "lb = LabelBinarizer()\n",
    "lbls_fit = lb.fit_transform(lbls)\n",
    "#lbls_cat = to_categorical(lbls_fit, num_classes=3)\n",
    "\n",
    "# partition the data into training and testing splits using 70% of\n",
    "# the data for training and the remaining 30% for testing\n",
    "(trainX, testX, trainY, testY) = train_test_split(dt, lbls_fit, test_size=0.2, stratify=lbls_fit, random_state=33)"
   ]
  },
  {
   "cell_type": "code",
   "execution_count": 34,
   "id": "4a1fb7d9",
   "metadata": {},
   "outputs": [],
   "source": [
    "# initialize the training data augmentation object\n",
    "trainAug = ImageDataGenerator(\n",
    "    #rotation_range=30,\n",
    "    zoom_range=0.15,\n",
    "    #width_shift_range=0.2,\n",
    "    #height_shift_range=0.2,\n",
    "    #shear_range=0.15,\n",
    "    horizontal_flip=True,\n",
    "    fill_mode=\"nearest\")\n",
    "\n",
    "\n",
    "# initialize the validation/testing data augmentation object (which\n",
    "# we'll be adding mean subtraction to)\n",
    "valAug = ImageDataGenerator()"
   ]
  },
  {
   "cell_type": "code",
   "execution_count": 35,
   "id": "abab31dd",
   "metadata": {},
   "outputs": [],
   "source": [
    "# define the ImageNet mean subtraction (in RGB order) and set the\n",
    "# the mean subtraction value for each of the data augmentation\n",
    "# objects\n",
    "mean = np.array([123.68, 116.779, 103.939], dtype=\"float32\")\n",
    "trainAug.mean = mean\n",
    "valAug.mean = mean"
   ]
  },
  {
   "cell_type": "code",
   "execution_count": 37,
   "id": "d004703b",
   "metadata": {},
   "outputs": [
    {
     "ename": "ValueError",
     "evalue": "Input 0 of layer \"bidirectional_7\" is incompatible with the layer: expected ndim=3, found ndim=2. Full shape received: (None, 3)",
     "output_type": "error",
     "traceback": [
      "\u001b[1;31m---------------------------------------------------------------------------\u001b[0m",
      "\u001b[1;31mValueError\u001b[0m                                Traceback (most recent call last)",
      "Cell \u001b[1;32mIn [37], line 25\u001b[0m\n\u001b[0;32m     22\u001b[0m model\u001b[38;5;241m.\u001b[39madd(mobilenet)\n\u001b[0;32m     23\u001b[0m model\u001b[38;5;241m.\u001b[39madd(Flatten())\n\u001b[1;32m---> 25\u001b[0m \u001b[43mmodel\u001b[49m\u001b[38;5;241;43m.\u001b[39;49m\u001b[43madd\u001b[49m\u001b[43m(\u001b[49m\u001b[43mBidirectional\u001b[49m\u001b[43m(\u001b[49m\u001b[43mLSTM\u001b[49m\u001b[43m(\u001b[49m\u001b[38;5;241;43m32\u001b[39;49m\u001b[43m)\u001b[49m\u001b[43m)\u001b[49m\u001b[43m)\u001b[49m\n\u001b[0;32m     26\u001b[0m \u001b[38;5;66;03m#model.add(LSTM(32))\u001b[39;00m\n\u001b[0;32m     27\u001b[0m model\u001b[38;5;241m.\u001b[39madd(Dense(\u001b[38;5;241m64\u001b[39m,activation\u001b[38;5;241m=\u001b[39m\u001b[38;5;124m'\u001b[39m\u001b[38;5;124mrelu\u001b[39m\u001b[38;5;124m'\u001b[39m))\n",
      "File \u001b[1;32mC:\\Python310\\lib\\site-packages\\tensorflow\\python\\trackable\\base.py:205\u001b[0m, in \u001b[0;36mno_automatic_dependency_tracking.<locals>._method_wrapper\u001b[1;34m(self, *args, **kwargs)\u001b[0m\n\u001b[0;32m    203\u001b[0m \u001b[38;5;28mself\u001b[39m\u001b[38;5;241m.\u001b[39m_self_setattr_tracking \u001b[38;5;241m=\u001b[39m \u001b[38;5;28;01mFalse\u001b[39;00m  \u001b[38;5;66;03m# pylint: disable=protected-access\u001b[39;00m\n\u001b[0;32m    204\u001b[0m \u001b[38;5;28;01mtry\u001b[39;00m:\n\u001b[1;32m--> 205\u001b[0m   result \u001b[38;5;241m=\u001b[39m method(\u001b[38;5;28mself\u001b[39m, \u001b[38;5;241m*\u001b[39margs, \u001b[38;5;241m*\u001b[39m\u001b[38;5;241m*\u001b[39mkwargs)\n\u001b[0;32m    206\u001b[0m \u001b[38;5;28;01mfinally\u001b[39;00m:\n\u001b[0;32m    207\u001b[0m   \u001b[38;5;28mself\u001b[39m\u001b[38;5;241m.\u001b[39m_self_setattr_tracking \u001b[38;5;241m=\u001b[39m previous_value  \u001b[38;5;66;03m# pylint: disable=protected-access\u001b[39;00m\n",
      "File \u001b[1;32mC:\\Python310\\lib\\site-packages\\keras\\utils\\traceback_utils.py:70\u001b[0m, in \u001b[0;36mfilter_traceback.<locals>.error_handler\u001b[1;34m(*args, **kwargs)\u001b[0m\n\u001b[0;32m     67\u001b[0m     filtered_tb \u001b[38;5;241m=\u001b[39m _process_traceback_frames(e\u001b[38;5;241m.\u001b[39m__traceback__)\n\u001b[0;32m     68\u001b[0m     \u001b[38;5;66;03m# To get the full stack trace, call:\u001b[39;00m\n\u001b[0;32m     69\u001b[0m     \u001b[38;5;66;03m# `tf.debugging.disable_traceback_filtering()`\u001b[39;00m\n\u001b[1;32m---> 70\u001b[0m     \u001b[38;5;28;01mraise\u001b[39;00m e\u001b[38;5;241m.\u001b[39mwith_traceback(filtered_tb) \u001b[38;5;28;01mfrom\u001b[39;00m \u001b[38;5;28mNone\u001b[39m\n\u001b[0;32m     71\u001b[0m \u001b[38;5;28;01mfinally\u001b[39;00m:\n\u001b[0;32m     72\u001b[0m     \u001b[38;5;28;01mdel\u001b[39;00m filtered_tb\n",
      "File \u001b[1;32mC:\\Python310\\lib\\site-packages\\keras\\engine\\input_spec.py:232\u001b[0m, in \u001b[0;36massert_input_compatibility\u001b[1;34m(input_spec, inputs, layer_name)\u001b[0m\n\u001b[0;32m    230\u001b[0m     ndim \u001b[38;5;241m=\u001b[39m shape\u001b[38;5;241m.\u001b[39mrank\n\u001b[0;32m    231\u001b[0m     \u001b[38;5;28;01mif\u001b[39;00m ndim \u001b[38;5;241m!=\u001b[39m spec\u001b[38;5;241m.\u001b[39mndim:\n\u001b[1;32m--> 232\u001b[0m         \u001b[38;5;28;01mraise\u001b[39;00m \u001b[38;5;167;01mValueError\u001b[39;00m(\n\u001b[0;32m    233\u001b[0m             \u001b[38;5;124mf\u001b[39m\u001b[38;5;124m'\u001b[39m\u001b[38;5;124mInput \u001b[39m\u001b[38;5;132;01m{\u001b[39;00minput_index\u001b[38;5;132;01m}\u001b[39;00m\u001b[38;5;124m of layer \u001b[39m\u001b[38;5;124m\"\u001b[39m\u001b[38;5;132;01m{\u001b[39;00mlayer_name\u001b[38;5;132;01m}\u001b[39;00m\u001b[38;5;124m\"\u001b[39m\u001b[38;5;124m \u001b[39m\u001b[38;5;124m'\u001b[39m\n\u001b[0;32m    234\u001b[0m             \u001b[38;5;124m\"\u001b[39m\u001b[38;5;124mis incompatible with the layer: \u001b[39m\u001b[38;5;124m\"\u001b[39m\n\u001b[0;32m    235\u001b[0m             \u001b[38;5;124mf\u001b[39m\u001b[38;5;124m\"\u001b[39m\u001b[38;5;124mexpected ndim=\u001b[39m\u001b[38;5;132;01m{\u001b[39;00mspec\u001b[38;5;241m.\u001b[39mndim\u001b[38;5;132;01m}\u001b[39;00m\u001b[38;5;124m, found ndim=\u001b[39m\u001b[38;5;132;01m{\u001b[39;00mndim\u001b[38;5;132;01m}\u001b[39;00m\u001b[38;5;124m. \u001b[39m\u001b[38;5;124m\"\u001b[39m\n\u001b[0;32m    236\u001b[0m             \u001b[38;5;124mf\u001b[39m\u001b[38;5;124m\"\u001b[39m\u001b[38;5;124mFull shape received: \u001b[39m\u001b[38;5;132;01m{\u001b[39;00m\u001b[38;5;28mtuple\u001b[39m(shape)\u001b[38;5;132;01m}\u001b[39;00m\u001b[38;5;124m\"\u001b[39m\n\u001b[0;32m    237\u001b[0m         )\n\u001b[0;32m    238\u001b[0m \u001b[38;5;28;01mif\u001b[39;00m spec\u001b[38;5;241m.\u001b[39mmax_ndim \u001b[38;5;129;01mis\u001b[39;00m \u001b[38;5;129;01mnot\u001b[39;00m \u001b[38;5;28;01mNone\u001b[39;00m:\n\u001b[0;32m    239\u001b[0m     ndim \u001b[38;5;241m=\u001b[39m x\u001b[38;5;241m.\u001b[39mshape\u001b[38;5;241m.\u001b[39mrank\n",
      "\u001b[1;31mValueError\u001b[0m: Input 0 of layer \"bidirectional_7\" is incompatible with the layer: expected ndim=3, found ndim=2. Full shape received: (None, 3)"
     ]
    }
   ],
   "source": [
    "from tensorflow.keras.models import Sequential\n",
    "from tensorflow.keras.layers import *\n",
    "from tensorflow.keras.utils import plot_model\n",
    "model = Sequential()\n",
    "dt=dt.astype('float32')/255\n",
    "\n",
    "# load the InceptionV3 network, ensuring the head FC layer sets are left\n",
    "# off\n",
    "mobilenet = MobileNetV2(\n",
    "    alpha=1.0,\n",
    "    include_top=True,\n",
    "    weights=None,\n",
    "    input_tensor=None,\n",
    "    pooling=None,\n",
    "    classes=3,\n",
    "    classifier_activation=\"softmax\")\n",
    "\n",
    "# loop over all layers in the base model and freeze them so they will\n",
    "# *not* be updated during the training process\n",
    "mobilenet.trainable = True\n",
    "\n",
    "model.add(mobilenet,input_shape=dt.shape[1:]))\n",
    "model.add(Flatten())\n",
    "\n",
    "model.add(Bidirectional(LSTM(32)))\n",
    "#model.add(LSTM(32))\n",
    "model.add(Dense(64,activation='relu'))\n",
    "model.add(Dense(32,activation='relu'))\n",
    "#model.add(Flatten())\n",
    "model.add(Dense(2,activation='sigmoid'))"
   ]
  },
  {
   "cell_type": "code",
   "execution_count": null,
   "id": "c2aea194",
   "metadata": {},
   "outputs": [],
   "source": [
    "# compile our model (this needs to be done after our setting our\n",
    "# layers to being non-trainable)\n",
    "print('-'*100)\n",
    "print(\"[INFO] compiling model...\")\n",
    "print('-'*100)\n",
    "model.compile(loss='sparse_categorical_crossentropy',optimizer='SGD',metrics=['accuracy'])\n",
    "print(model.summary())"
   ]
  },
  {
   "cell_type": "code",
   "execution_count": 38,
   "id": "b0b68d00",
   "metadata": {},
   "outputs": [
    {
     "name": "stdout",
     "output_type": "stream",
     "text": [
      "Object `reshape` not found.\n"
     ]
    }
   ],
   "source": []
  },
  {
   "cell_type": "code",
   "execution_count": null,
   "id": "4751b8f9",
   "metadata": {},
   "outputs": [],
   "source": []
  }
 ],
 "metadata": {
  "kernelspec": {
   "display_name": "Python 3 (ipykernel)",
   "language": "python",
   "name": "python3"
  },
  "language_info": {
   "codemirror_mode": {
    "name": "ipython",
    "version": 3
   },
   "file_extension": ".py",
   "mimetype": "text/x-python",
   "name": "python",
   "nbconvert_exporter": "python",
   "pygments_lexer": "ipython3",
   "version": "3.10.4"
  }
 },
 "nbformat": 4,
 "nbformat_minor": 5
}
